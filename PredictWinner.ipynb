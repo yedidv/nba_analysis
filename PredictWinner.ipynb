{
 "cells": [
  {
   "cell_type": "code",
   "execution_count": 1,
   "metadata": {
    "ExecuteTime": {
     "end_time": "2021-01-05T16:26:01.714264Z",
     "start_time": "2021-01-05T16:26:00.858933Z"
    }
   },
   "outputs": [],
   "source": [
    "import pandas as pd \n",
    "import numpy as np \n",
    "from tqdm import tqdm \n",
    "import seaborn as sns \n",
    "import matplotlib.pyplot as plt \n",
    "\n",
    "pd.set_option(\"display.max_rows\", 10000, \"display.max_columns\", 10000)\n",
    "\n",
    "sns.set(context='paper', \n",
    "        style='darkgrid', \n",
    "        rc={'figure.facecolor':'white'}, \n",
    "        font_scale=1.2)\n",
    "\n"
   ]
  },
  {
   "cell_type": "code",
   "execution_count": 2,
   "metadata": {
    "ExecuteTime": {
     "end_time": "2021-01-05T16:26:01.720038Z",
     "start_time": "2021-01-05T16:26:01.717112Z"
    }
   },
   "outputs": [],
   "source": [
    "def FormatTeams(df): \n",
    "    \n",
    "\n",
    "    df['playoffs'] = df.Team.str.contains('\\*', regex = True).astype('int') \n",
    "    \n",
    "    df.Team = df.Team.str.strip().str.replace(' ', '_').str.lower().str.replace(\n",
    "                '\\*', '')\n",
    "\n",
    "    \n",
    "    return df"
   ]
  },
  {
   "cell_type": "code",
   "execution_count": 3,
   "metadata": {
    "ExecuteTime": {
     "end_time": "2021-01-05T16:26:01.766173Z",
     "start_time": "2021-01-05T16:26:01.721541Z"
    }
   },
   "outputs": [
    {
     "data": {
      "text/html": [
       "<div>\n",
       "<style scoped>\n",
       "    .dataframe tbody tr th:only-of-type {\n",
       "        vertical-align: middle;\n",
       "    }\n",
       "\n",
       "    .dataframe tbody tr th {\n",
       "        vertical-align: top;\n",
       "    }\n",
       "\n",
       "    .dataframe thead th {\n",
       "        text-align: right;\n",
       "    }\n",
       "</style>\n",
       "<table border=\"1\" class=\"dataframe\">\n",
       "  <thead>\n",
       "    <tr style=\"text-align: right;\">\n",
       "      <th></th>\n",
       "      <th>Team</th>\n",
       "      <th>FG</th>\n",
       "      <th>FGA</th>\n",
       "      <th>FG%</th>\n",
       "      <th>3P</th>\n",
       "      <th>3PA</th>\n",
       "      <th>3P%</th>\n",
       "      <th>2P</th>\n",
       "      <th>2PA</th>\n",
       "      <th>2P%</th>\n",
       "      <th>FT</th>\n",
       "      <th>FTA</th>\n",
       "      <th>FT%</th>\n",
       "      <th>ORB</th>\n",
       "      <th>DRB</th>\n",
       "      <th>TRB</th>\n",
       "      <th>AST</th>\n",
       "      <th>STL</th>\n",
       "      <th>BLK</th>\n",
       "      <th>TOV</th>\n",
       "      <th>PF</th>\n",
       "      <th>PTS</th>\n",
       "      <th>year</th>\n",
       "      <th>playoffs</th>\n",
       "    </tr>\n",
       "  </thead>\n",
       "  <tbody>\n",
       "    <tr>\n",
       "      <th>0</th>\n",
       "      <td>san_antonio_spurs</td>\n",
       "      <td>35.2</td>\n",
       "      <td>82.7</td>\n",
       "      <td>0.425</td>\n",
       "      <td>4.3</td>\n",
       "      <td>12.6</td>\n",
       "      <td>0.343</td>\n",
       "      <td>30.8</td>\n",
       "      <td>70.1</td>\n",
       "      <td>0.440</td>\n",
       "      <td>15.6</td>\n",
       "      <td>21.0</td>\n",
       "      <td>0.739</td>\n",
       "      <td>12.0</td>\n",
       "      <td>29.4</td>\n",
       "      <td>41.4</td>\n",
       "      <td>20.3</td>\n",
       "      <td>7.9</td>\n",
       "      <td>5.2</td>\n",
       "      <td>14.4</td>\n",
       "      <td>23.1</td>\n",
       "      <td>90.2</td>\n",
       "      <td>2000</td>\n",
       "      <td>1</td>\n",
       "    </tr>\n",
       "    <tr>\n",
       "      <th>1</th>\n",
       "      <td>new_york_knicks</td>\n",
       "      <td>33.1</td>\n",
       "      <td>78.0</td>\n",
       "      <td>0.424</td>\n",
       "      <td>4.9</td>\n",
       "      <td>14.6</td>\n",
       "      <td>0.338</td>\n",
       "      <td>28.1</td>\n",
       "      <td>63.4</td>\n",
       "      <td>0.444</td>\n",
       "      <td>19.6</td>\n",
       "      <td>26.3</td>\n",
       "      <td>0.747</td>\n",
       "      <td>11.3</td>\n",
       "      <td>29.8</td>\n",
       "      <td>41.1</td>\n",
       "      <td>19.6</td>\n",
       "      <td>7.4</td>\n",
       "      <td>4.3</td>\n",
       "      <td>14.2</td>\n",
       "      <td>21.9</td>\n",
       "      <td>90.7</td>\n",
       "      <td>2000</td>\n",
       "      <td>1</td>\n",
       "    </tr>\n",
       "    <tr>\n",
       "      <th>2</th>\n",
       "      <td>portland_trail_blazers</td>\n",
       "      <td>34.5</td>\n",
       "      <td>80.0</td>\n",
       "      <td>0.431</td>\n",
       "      <td>4.8</td>\n",
       "      <td>14.6</td>\n",
       "      <td>0.330</td>\n",
       "      <td>29.6</td>\n",
       "      <td>65.4</td>\n",
       "      <td>0.453</td>\n",
       "      <td>17.3</td>\n",
       "      <td>24.2</td>\n",
       "      <td>0.716</td>\n",
       "      <td>11.9</td>\n",
       "      <td>27.1</td>\n",
       "      <td>39.0</td>\n",
       "      <td>20.8</td>\n",
       "      <td>8.0</td>\n",
       "      <td>4.3</td>\n",
       "      <td>14.5</td>\n",
       "      <td>22.8</td>\n",
       "      <td>91.0</td>\n",
       "      <td>2000</td>\n",
       "      <td>1</td>\n",
       "    </tr>\n",
       "    <tr>\n",
       "      <th>3</th>\n",
       "      <td>miami_heat</td>\n",
       "      <td>33.9</td>\n",
       "      <td>80.4</td>\n",
       "      <td>0.422</td>\n",
       "      <td>5.0</td>\n",
       "      <td>13.8</td>\n",
       "      <td>0.361</td>\n",
       "      <td>29.0</td>\n",
       "      <td>66.6</td>\n",
       "      <td>0.434</td>\n",
       "      <td>18.4</td>\n",
       "      <td>24.7</td>\n",
       "      <td>0.748</td>\n",
       "      <td>11.9</td>\n",
       "      <td>28.5</td>\n",
       "      <td>40.4</td>\n",
       "      <td>19.3</td>\n",
       "      <td>7.6</td>\n",
       "      <td>4.4</td>\n",
       "      <td>14.0</td>\n",
       "      <td>21.9</td>\n",
       "      <td>91.3</td>\n",
       "      <td>2000</td>\n",
       "      <td>1</td>\n",
       "    </tr>\n",
       "    <tr>\n",
       "      <th>4</th>\n",
       "      <td>utah_jazz</td>\n",
       "      <td>33.9</td>\n",
       "      <td>76.1</td>\n",
       "      <td>0.446</td>\n",
       "      <td>4.7</td>\n",
       "      <td>13.4</td>\n",
       "      <td>0.354</td>\n",
       "      <td>29.2</td>\n",
       "      <td>62.7</td>\n",
       "      <td>0.465</td>\n",
       "      <td>19.5</td>\n",
       "      <td>26.1</td>\n",
       "      <td>0.746</td>\n",
       "      <td>10.8</td>\n",
       "      <td>27.3</td>\n",
       "      <td>38.1</td>\n",
       "      <td>19.8</td>\n",
       "      <td>7.2</td>\n",
       "      <td>5.0</td>\n",
       "      <td>15.5</td>\n",
       "      <td>24.7</td>\n",
       "      <td>92.0</td>\n",
       "      <td>2000</td>\n",
       "      <td>1</td>\n",
       "    </tr>\n",
       "  </tbody>\n",
       "</table>\n",
       "</div>"
      ],
      "text/plain": [
       "                     Team    FG   FGA    FG%   3P   3PA    3P%    2P   2PA  \\\n",
       "0       san_antonio_spurs  35.2  82.7  0.425  4.3  12.6  0.343  30.8  70.1   \n",
       "1         new_york_knicks  33.1  78.0  0.424  4.9  14.6  0.338  28.1  63.4   \n",
       "2  portland_trail_blazers  34.5  80.0  0.431  4.8  14.6  0.330  29.6  65.4   \n",
       "3              miami_heat  33.9  80.4  0.422  5.0  13.8  0.361  29.0  66.6   \n",
       "4               utah_jazz  33.9  76.1  0.446  4.7  13.4  0.354  29.2  62.7   \n",
       "\n",
       "     2P%    FT   FTA    FT%   ORB   DRB   TRB   AST  STL  BLK   TOV    PF  \\\n",
       "0  0.440  15.6  21.0  0.739  12.0  29.4  41.4  20.3  7.9  5.2  14.4  23.1   \n",
       "1  0.444  19.6  26.3  0.747  11.3  29.8  41.1  19.6  7.4  4.3  14.2  21.9   \n",
       "2  0.453  17.3  24.2  0.716  11.9  27.1  39.0  20.8  8.0  4.3  14.5  22.8   \n",
       "3  0.434  18.4  24.7  0.748  11.9  28.5  40.4  19.3  7.6  4.4  14.0  21.9   \n",
       "4  0.465  19.5  26.1  0.746  10.8  27.3  38.1  19.8  7.2  5.0  15.5  24.7   \n",
       "\n",
       "    PTS  year  playoffs  \n",
       "0  90.2  2000         1  \n",
       "1  90.7  2000         1  \n",
       "2  91.0  2000         1  \n",
       "3  91.3  2000         1  \n",
       "4  92.0  2000         1  "
      ]
     },
     "execution_count": 3,
     "metadata": {},
     "output_type": "execute_result"
    }
   ],
   "source": [
    "def ReadCSV(team_opponent): \n",
    "    \n",
    "    df = pd.read_csv('csv_files/{}_stats.csv'.format(team_opponent),\n",
    "                     index_col = 0).dropna(\n",
    "    how = 'any').reset_index().drop(columns = ['G', 'MP'])\n",
    "    \n",
    "    df = df.drop(columns = ['index'])\n",
    "    \n",
    "    df = FormatTeams(df) \n",
    "    \n",
    "\n",
    "    \n",
    "    \n",
    "    return df\n",
    "\n",
    "\n",
    "team = ReadCSV('team') \n",
    "opponent = ReadCSV('opponent') \n",
    "opponent.head()"
   ]
  },
  {
   "cell_type": "code",
   "execution_count": 4,
   "metadata": {
    "ExecuteTime": {
     "end_time": "2021-01-05T16:26:02.367232Z",
     "start_time": "2021-01-05T16:26:01.768283Z"
    }
   },
   "outputs": [],
   "source": [
    "## Normalize the data- normalize by year, then normalize by features \n",
    "from sklearn.preprocessing import MinMaxScaler\n",
    "\n",
    "def Normalize(df): \n",
    "    df_group = df.drop(columns = ['playoffs'])\n",
    "    df_group = df_group.groupby(['year'])\n",
    "    df_group = df_group.transform(lambda x: (x - x.mean())/(x.std())) \n",
    "    #df_group = df_group.drop(columns = ['level_0', 'index'])\n",
    "    df_group[df_group.columns] = MinMaxScaler().fit_transform(df_group) \n",
    "    \n",
    "    df = pd.concat(\n",
    "        [df[['Team', 'year']], df_group, df['playoffs']], axis = 1\n",
    "    )\n",
    "    \n",
    "    return df\n",
    "\n",
    "team = Normalize(team)\n",
    "opponent = Normalize(opponent) "
   ]
  },
  {
   "cell_type": "code",
   "execution_count": 5,
   "metadata": {
    "ExecuteTime": {
     "end_time": "2021-01-05T16:26:02.390802Z",
     "start_time": "2021-01-05T16:26:02.369561Z"
    }
   },
   "outputs": [],
   "source": [
    "from sklearn.model_selection import train_test_split \n",
    "\n",
    "def SplitDF(df): \n",
    "    x_cols =[col for col in team.columns if col not in ['playoffs', 'year', 'Team']]\n",
    "    df_x = df[x_cols] \n",
    "    df_y = df.playoffs\n",
    "    \n",
    "    return train_test_split(df_x, df_y)\n",
    "\n",
    "x_team_train, x_team_test, y_team_train, y_team_test = SplitDF(team) \n",
    "x_opponent_train, x_opponent_test, y_opponent_train, y_opponent_test = SplitDF(opponent) \n"
   ]
  },
  {
   "cell_type": "code",
   "execution_count": 8,
   "metadata": {
    "ExecuteTime": {
     "end_time": "2021-01-05T16:27:02.200574Z",
     "start_time": "2021-01-05T16:27:01.923673Z"
    }
   },
   "outputs": [
    {
     "name": "stdout",
     "output_type": "stream",
     "text": [
      "The offense playoff prediction accuracy is: 0.8280254777070064\n",
      "The defense playoff prediction accuracy is: 0.8662420382165605\n"
     ]
    },
    {
     "data": {
      "image/png": "[encoded data removed]",
      "text/plain": [
       "<Figure size 432x288 with 3 Axes>"
      ]
     },
     "metadata": {},
     "output_type": "display_data"
    }
   ],
   "source": [
    "from sklearn.linear_model import LogisticRegression \n",
    "from sklearn.metrics import accuracy_score, confusion_matrix\n",
    "\n",
    "def Accuracy(y_test, prediction): \n",
    "    score = accuracy_score(y_test, prediction) \n",
    "    \n",
    "    confusion = confusion_matrix(y_test, prediction) \n",
    "    sns.heatmap(confusion, annot = True) \n",
    "    return score\n",
    "\n",
    "def LogisticPrediction(x_train, y_train, x_test, y_test = None): \n",
    "    logistic_model = LogisticRegression(random_state = 1).fit(x_train, y_train) \n",
    "\n",
    "    prediction = logistic_model.predict(x_test) \n",
    "    if y_test is not None: \n",
    "        score = Accuracy(y_test, prediction) \n",
    "        \n",
    "        return prediction, score \n",
    "    \n",
    "    return prediction \n",
    "\n",
    "\n",
    "team_playoff_prediction, team_playoff_score = LogisticPrediction(x_team_train, \n",
    "                                                                y_team_train, \n",
    "                                                                x_team_test, \n",
    "                                                                y_team_test) \n",
    "\n",
    "opponent_playoff_prediction, opponent_playoff_score = LogisticPrediction(\n",
    "    x_opponent_train, y_opponent_train,x_opponent_test, y_opponent_test) \n",
    "\n",
    "\n",
    "print('The offense playoff prediction accuracy is: {}'.format(team_playoff_score) )\n",
    "print('The defense playoff prediction accuracy is: {}'.format(opponent_playoff_score)) "
   ]
  },
  {
   "cell_type": "code",
   "execution_count": 7,
   "metadata": {
    "ExecuteTime": {
     "end_time": "2021-01-05T16:26:03.212236Z",
     "start_time": "2021-01-05T16:26:02.658206Z"
    }
   },
   "outputs": [
    {
     "name": "stdout",
     "output_type": "stream",
     "text": [
      "The offense playoff prediction accuracy is: 0.8152866242038217\n",
      "The defense playoff prediction accuracy is: 0.8535031847133758\n"
     ]
    },
    {
     "data": {
      "image/png": "[encoded data removed]",
      "text/plain": [
       "<Figure size 432x288 with 3 Axes>"
      ]
     },
     "metadata": {},
     "output_type": "display_data"
    }
   ],
   "source": [
    "from xgboost import XGBClassifier\n",
    "\n",
    "\n",
    "def RunXGBoost(x_train, y_train, x_test, y_test = None): \n",
    "    model = XGBClassifier(use_label_encoder = False, \n",
    "                         eval_metric = 'logloss') \n",
    "    model.fit(x_train, y_train) \n",
    "    \n",
    "    prediction = model.predict(x_test) \n",
    "    \n",
    "    if y_test is not None: \n",
    "        score = Accuracy(y_test, prediction) \n",
    "        return prediction, score \n",
    "    return prediction \n",
    "\n",
    "\n",
    "team_playoff_xg_prediction, team_playoff_xg_score = RunXGBoost(x_team_train, \n",
    "                                                                y_team_train, \n",
    "                                                                x_team_test, \n",
    "                                                                y_team_test) \n",
    "\n",
    "opponent_playoff_xg_prediction, opponent_playoff_xg_score = RunXGBoost(x_opponent_train, \n",
    "                                                                y_opponent_train, \n",
    "                                                                x_opponent_test, \n",
    "                                                                y_opponent_test) \n",
    "\n",
    "print('The offense playoff prediction accuracy is: {}'.format(team_playoff_xg_score) )\n",
    "print('The defense playoff prediction accuracy is: {}'.format(opponent_playoff_xg_score)) "
   ]
  },
  {
   "cell_type": "code",
   "execution_count": null,
   "metadata": {},
   "outputs": [],
   "source": []
  }
 ],
 "metadata": {
  "hide_input": false,
  "kernelspec": {
   "display_name": "Python 3",
   "language": "python",
   "name": "python3"
  },
  "language_info": {
   "codemirror_mode": {
    "name": "ipython",
    "version": 3
   },
   "file_extension": ".py",
   "mimetype": "text/x-python",
   "name": "python",
   "nbconvert_exporter": "python",
   "pygments_lexer": "ipython3",
   "version": "3.8.2"
  },
  "latex_envs": {
   "LaTeX_envs_menu_present": true,
   "autoclose": false,
   "autocomplete": true,
   "bibliofile": "biblio.bib",
   "cite_by": "apalike",
   "current_citInitial": 1,
   "eqLabelWithNumbers": true,
   "eqNumInitial": 1,
   "hotkeys": {
    "equation": "Ctrl-E",
    "itemize": "Ctrl-I"
   },
   "labels_anchors": false,
   "latex_user_defs": false,
   "report_style_numbering": false,
   "user_envs_cfg": false
  },
  "toc": {
   "base_numbering": 1,
   "nav_menu": {},
   "number_sections": true,
   "sideBar": true,
   "skip_h1_title": false,
   "title_cell": "Table of Contents",
   "title_sidebar": "Contents",
   "toc_cell": false,
   "toc_position": {},
   "toc_section_display": true,
   "toc_window_display": false
  },
  "varInspector": {
   "cols": {
    "lenName": 16,
    "lenType": 16,
    "lenVar": 40
   },
   "kernels_config": {
    "python": {
     "delete_cmd_postfix": "",
     "delete_cmd_prefix": "del ",
     "library": "var_list.py",
     "varRefreshCmd": "print(var_dic_list())"
    },
    "r": {
     "delete_cmd_postfix": ") ",
     "delete_cmd_prefix": "rm(",
     "library": "var_list.r",
     "varRefreshCmd": "cat(var_dic_list()) "
    }
   },
   "types_to_exclude": [
    "module",
    "function",
    "builtin_function_or_method",
    "instance",
    "_Feature"
   ],
   "window_display": false
  }
 },
 "nbformat": 4,
 "nbformat_minor": 4
}