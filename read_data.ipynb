{
 "metadata": {
  "language_info": {
   "codemirror_mode": {
    "name": "ipython",
    "version": 3
   },
   "file_extension": ".py",
   "mimetype": "text/x-python",
   "name": "python",
   "nbconvert_exporter": "python",
   "pygments_lexer": "ipython3",
   "version": "3.8.5-final"
  },
  "orig_nbformat": 2,
  "kernelspec": {
   "name": "python3",
   "display_name": "Python 3.8.5 64-bit ('anaconda3': virtualenv)",
   "metadata": {
    "interpreter": {
     "hash": "212983865df447a587cd02ed42187f39760d467fb0227a7a0f46f8f8baf099d2"
    }
   }
  }
 },
 "nbformat": 4,
 "nbformat_minor": 2,
 "cells": [
  {
   "cell_type": "code",
   "execution_count": null,
   "metadata": {},
   "outputs": [],
   "source": [
    "import pandas as pd \n",
    "import numpy as np \n",
    "from selenium import webdriver \n",
    "from tqdm import tqdm \n",
    "\n",
    "from bball_reference import BBallScrape \n",
    "\n"
   ]
  },
  {
   "cell_type": "code",
   "execution_count": null,
   "metadata": {},
   "outputs": [],
   "source": [
    "def ReadFiles(year_range): \n",
    "    \n",
    "    try: \n",
    "\n",
    "        player_salary = pd.read_csv('csv_files/player_salary.csv') \n",
    "        print('player salary worked') \n",
    "\n",
    "        player_stats = pd.read_csv('csv_files/player_stats.csv') \n",
    "        print('player_stats worked') \n",
    "\n",
    "        standings = pd.read_csv('csv_files/standings.csv') \n",
    "        print('standings worked') \n",
    "\n",
    "        team_stats = pd.read_csv('csv_files/team_stats') \n",
    "        print('team_stats worked') \n",
    "\n",
    "        opponent_stats = pd.read_csv('csv_files/opponent_stats.csv') \n",
    "        print('opponent_stats worked') \n",
    "    \n",
    "\n",
    "    except: \n",
    "\n",
    "        all_stats = BBallScrape(year_range[0]).ReturnAllData()\n",
    "\n",
    "        player_salary = all_stats['player_salary'] \n",
    "        player_stats = all_stats['player_stats'] \n",
    "        standings = all_stats['standings'] \n",
    "        team_stats = all_stats['team_stats'] \n",
    "        opponent_stats = all_stats['opponent_stats'] \n",
    "\n",
    "        for year in tqdm(year_range[1:]): \n",
    "            \n",
    "\n",
    "            player_salary = player_salary.append(all_stats['player_salary'] ) \n",
    "            player_stats = player_stats.append(all_stats['player_stats'] ) \n",
    "            standings = standings.append(all_stats['standings'] ) \n",
    "            team_stats = team_stats.append(all_stats['team_stats'] ) \n",
    "            opponent_stats = opponent_stats.append(all_stats['opponent_stats'] ) \n",
    "\n",
    "        player_salary.to_csv('csv_files/player_salary') \n",
    "        player_stats.to_csv('csv_files/player_stats') \n",
    "        standings.to_csv('csv_files/standings') \n",
    "        team_stats.to_csv('csv_files/team_stats') \n",
    "        opponent_stats.to_csv('csv_files/opponent_stats') \n",
    "\n",
    "    return {'player_salary': player_salary, \n",
    "            'player_stats': player_stats, \n",
    "            'standings': standings, \n",
    "            'team_stats': team_stats, \n",
    "            'opponent_stats': opponent_stats} \n",
    "\n",
    "\n",
    "\n",
    "year_range = np.arange(2000, 2020, 1)\n",
    "dfs = ReadFiles(year_range) \n"
   ]
  },
  {
   "cell_type": "code",
   "execution_count": null,
   "metadata": {},
   "outputs": [],
   "source": [
    "pd.read_csv('csv_files/opponent_stats.csv', encoding = 'latin-1')"
   ]
  },
  {
   "cell_type": "code",
   "execution_count": null,
   "metadata": {},
   "outputs": [],
   "source": [
    "pd.read_csv('csv_files/opponent_stats.xlsx') "
   ]
  },
  {
   "cell_type": "code",
   "execution_count": null,
   "metadata": {},
   "outputs": [],
   "source": []
  }
 ]
}