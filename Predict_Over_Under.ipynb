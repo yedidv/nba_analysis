{
 "cells": [
  {
   "cell_type": "markdown",
   "metadata": {
    "toc": true
   },
   "source": [
    "<h1>Table of Contents<span class=\"tocSkip\"></span></h1>\n",
    "<div class=\"toc\"><ul class=\"toc-item\"></ul></div>"
   ]
  },
  {
   "cell_type": "code",
   "execution_count": 1,
   "metadata": {
    "ExecuteTime": {
     "end_time": "2021-03-08T23:07:09.062983Z",
     "start_time": "2021-03-08T23:07:06.703818Z"
    }
   },
   "outputs": [],
   "source": [
    "import pandas as pd \n",
    "import plotly.graph_objects as go  \n",
    "import numpy as np \n",
    "from lin_plots import * \n",
    "\n",
    "\n",
    "pd.set_option(\"display.max_rows\",\n",
    "              10000, \n",
    "              \"display.max_columns\", \n",
    "              10000)\n",
    "\n"
   ]
  },
  {
   "cell_type": "code",
   "execution_count": 2,
   "metadata": {
    "ExecuteTime": {
     "end_time": "2021-03-08T23:07:09.447331Z",
     "start_time": "2021-03-08T23:07:09.276256Z"
    }
   },
   "outputs": [
    {
     "output_type": "execute_result",
     "data": {
      "text/plain": [
       "   Unnamed: 0            team           opponent  year  team_win  unnamed: 0  \\\n",
       "0           0   atlanta_hawks     boston_celtics  2000         2          24   \n",
       "1           1   atlanta_hawks  charlotte_hornets  2000         2          24   \n",
       "2           2  boston_celtics  charlotte_hornets  2000         2           8   \n",
       "3           3   atlanta_hawks      chicago_bulls  2000         0          24   \n",
       "4           4  boston_celtics      chicago_bulls  2000         1           8   \n",
       "\n",
       "      g     mp    fg    fg%   3p    3p%    ft    ft%   orb   drb   trb   ast  \\\n",
       "0  82.0  241.8  36.6  0.441  3.1  0.317  18.0  0.743  14.0  31.3  45.3  18.9   \n",
       "1  82.0  241.8  36.6  0.441  3.1  0.317  18.0  0.743  14.0  31.3  45.3  18.9   \n",
       "2  82.0  240.6  37.2  0.444  5.1  0.331  19.8  0.745  13.5  29.5  43.0  21.2   \n",
       "3  82.0  241.8  36.6  0.441  3.1  0.317  18.0  0.743  14.0  31.3  45.3  18.9   \n",
       "4  82.0  240.6  37.2  0.444  5.1  0.331  19.8  0.745  13.5  29.5  43.0  21.2   \n",
       "\n",
       "   stl  blk   tov    pf   pts  playoffs  unnamed: 0.1   g.1   mp.1  fg.1  \\\n",
       "0  6.1  5.6  15.4  21.0  94.3         0             8  82.0  240.6  37.2   \n",
       "1  6.1  5.6  15.4  21.0  94.3         0            13  82.0  241.2  35.8   \n",
       "2  9.7  3.5  15.4  27.1  99.3         0            13  82.0  241.2  35.8   \n",
       "3  6.1  5.6  15.4  21.0  94.3         0            28  82.0  241.5  31.3   \n",
       "4  9.7  3.5  15.4  27.1  99.3         0            28  82.0  241.5  31.3   \n",
       "\n",
       "   fg%.1  3p.1  3p%.1  ft.1  ft%.1  orb.1  drb.1  trb.1  ast.1  stl.1  blk.1  \\\n",
       "0  0.444   5.1  0.331  19.8  0.745   13.5   29.5   43.0   21.2    9.7    3.5   \n",
       "1  0.449   4.1  0.339  22.7  0.758   10.8   32.1   42.9   24.7    8.9    5.9   \n",
       "2  0.449   4.1  0.339  22.7  0.758   10.8   32.1   42.9   24.7    8.9    5.9   \n",
       "3  0.415   4.1  0.329  18.1  0.709   12.6   28.3   40.9   20.1    7.9    4.7   \n",
       "4  0.415   4.1  0.329  18.1  0.709   12.6   28.3   40.9   20.1    7.9    4.7   \n",
       "\n",
       "   tov.1  pf.1  pts.1  playoffs.1  \n",
       "0   15.4  27.1   99.3           0  \n",
       "1   14.7  20.4   98.4           1  \n",
       "2   14.7  20.4   98.4           1  \n",
       "3   19.0  23.3   84.8           0  \n",
       "4   19.0  23.3   84.8           0  "
      ],
      "text/html": "<div>\n<style scoped>\n    .dataframe tbody tr th:only-of-type {\n        vertical-align: middle;\n    }\n\n    .dataframe tbody tr th {\n        vertical-align: top;\n    }\n\n    .dataframe thead th {\n        text-align: right;\n    }\n</style>\n<table border=\"1\" class=\"dataframe\">\n  <thead>\n    <tr style=\"text-align: right;\">\n      <th></th>\n      <th>Unnamed: 0</th>\n      <th>team</th>\n      <th>opponent</th>\n      <th>year</th>\n      <th>team_win</th>\n      <th>unnamed: 0</th>\n      <th>g</th>\n      <th>mp</th>\n      <th>fg</th>\n      <th>fg%</th>\n      <th>3p</th>\n      <th>3p%</th>\n      <th>ft</th>\n      <th>ft%</th>\n      <th>orb</th>\n      <th>drb</th>\n      <th>trb</th>\n      <th>ast</th>\n      <th>stl</th>\n      <th>blk</th>\n      <th>tov</th>\n      <th>pf</th>\n      <th>pts</th>\n      <th>playoffs</th>\n      <th>unnamed: 0.1</th>\n      <th>g.1</th>\n      <th>mp.1</th>\n      <th>fg.1</th>\n      <th>fg%.1</th>\n      <th>3p.1</th>\n      <th>3p%.1</th>\n      <th>ft.1</th>\n      <th>ft%.1</th>\n      <th>orb.1</th>\n      <th>drb.1</th>\n      <th>trb.1</th>\n      <th>ast.1</th>\n      <th>stl.1</th>\n      <th>blk.1</th>\n      <th>tov.1</th>\n      <th>pf.1</th>\n      <th>pts.1</th>\n      <th>playoffs.1</th>\n    </tr>\n  </thead>\n  <tbody>\n    <tr>\n      <th>0</th>\n      <td>0</td>\n      <td>atlanta_hawks</td>\n      <td>boston_celtics</td>\n      <td>2000</td>\n      <td>2</td>\n      <td>24</td>\n      <td>82.0</td>\n      <td>241.8</td>\n      <td>36.6</td>\n      <td>0.441</td>\n      <td>3.1</td>\n      <td>0.317</td>\n      <td>18.0</td>\n      <td>0.743</td>\n      <td>14.0</td>\n      <td>31.3</td>\n      <td>45.3</td>\n      <td>18.9</td>\n      <td>6.1</td>\n      <td>5.6</td>\n      <td>15.4</td>\n      <td>21.0</td>\n      <td>94.3</td>\n      <td>0</td>\n      <td>8</td>\n      <td>82.0</td>\n      <td>240.6</td>\n      <td>37.2</td>\n      <td>0.444</td>\n      <td>5.1</td>\n      <td>0.331</td>\n      <td>19.8</td>\n      <td>0.745</td>\n      <td>13.5</td>\n      <td>29.5</td>\n      <td>43.0</td>\n      <td>21.2</td>\n      <td>9.7</td>\n      <td>3.5</td>\n      <td>15.4</td>\n      <td>27.1</td>\n      <td>99.3</td>\n      <td>0</td>\n    </tr>\n    <tr>\n      <th>1</th>\n      <td>1</td>\n      <td>atlanta_hawks</td>\n      <td>charlotte_hornets</td>\n      <td>2000</td>\n      <td>2</td>\n      <td>24</td>\n      <td>82.0</td>\n      <td>241.8</td>\n      <td>36.6</td>\n      <td>0.441</td>\n      <td>3.1</td>\n      <td>0.317</td>\n      <td>18.0</td>\n      <td>0.743</td>\n      <td>14.0</td>\n      <td>31.3</td>\n      <td>45.3</td>\n      <td>18.9</td>\n      <td>6.1</td>\n      <td>5.6</td>\n      <td>15.4</td>\n      <td>21.0</td>\n      <td>94.3</td>\n      <td>0</td>\n      <td>13</td>\n      <td>82.0</td>\n      <td>241.2</td>\n      <td>35.8</td>\n      <td>0.449</td>\n      <td>4.1</td>\n      <td>0.339</td>\n      <td>22.7</td>\n      <td>0.758</td>\n      <td>10.8</td>\n      <td>32.1</td>\n      <td>42.9</td>\n      <td>24.7</td>\n      <td>8.9</td>\n      <td>5.9</td>\n      <td>14.7</td>\n      <td>20.4</td>\n      <td>98.4</td>\n      <td>1</td>\n    </tr>\n    <tr>\n      <th>2</th>\n      <td>2</td>\n      <td>boston_celtics</td>\n      <td>charlotte_hornets</td>\n      <td>2000</td>\n      <td>2</td>\n      <td>8</td>\n      <td>82.0</td>\n      <td>240.6</td>\n      <td>37.2</td>\n      <td>0.444</td>\n      <td>5.1</td>\n      <td>0.331</td>\n      <td>19.8</td>\n      <td>0.745</td>\n      <td>13.5</td>\n      <td>29.5</td>\n      <td>43.0</td>\n      <td>21.2</td>\n      <td>9.7</td>\n      <td>3.5</td>\n      <td>15.4</td>\n      <td>27.1</td>\n      <td>99.3</td>\n      <td>0</td>\n      <td>13</td>\n      <td>82.0</td>\n      <td>241.2</td>\n      <td>35.8</td>\n      <td>0.449</td>\n      <td>4.1</td>\n      <td>0.339</td>\n      <td>22.7</td>\n      <td>0.758</td>\n      <td>10.8</td>\n      <td>32.1</td>\n      <td>42.9</td>\n      <td>24.7</td>\n      <td>8.9</td>\n      <td>5.9</td>\n      <td>14.7</td>\n      <td>20.4</td>\n      <td>98.4</td>\n      <td>1</td>\n    </tr>\n    <tr>\n      <th>3</th>\n      <td>3</td>\n      <td>atlanta_hawks</td>\n      <td>chicago_bulls</td>\n      <td>2000</td>\n      <td>0</td>\n      <td>24</td>\n      <td>82.0</td>\n      <td>241.8</td>\n      <td>36.6</td>\n      <td>0.441</td>\n      <td>3.1</td>\n      <td>0.317</td>\n      <td>18.0</td>\n      <td>0.743</td>\n      <td>14.0</td>\n      <td>31.3</td>\n      <td>45.3</td>\n      <td>18.9</td>\n      <td>6.1</td>\n      <td>5.6</td>\n      <td>15.4</td>\n      <td>21.0</td>\n      <td>94.3</td>\n      <td>0</td>\n      <td>28</td>\n      <td>82.0</td>\n      <td>241.5</td>\n      <td>31.3</td>\n      <td>0.415</td>\n      <td>4.1</td>\n      <td>0.329</td>\n      <td>18.1</td>\n      <td>0.709</td>\n      <td>12.6</td>\n      <td>28.3</td>\n      <td>40.9</td>\n      <td>20.1</td>\n      <td>7.9</td>\n      <td>4.7</td>\n      <td>19.0</td>\n      <td>23.3</td>\n      <td>84.8</td>\n      <td>0</td>\n    </tr>\n    <tr>\n      <th>4</th>\n      <td>4</td>\n      <td>boston_celtics</td>\n      <td>chicago_bulls</td>\n      <td>2000</td>\n      <td>1</td>\n      <td>8</td>\n      <td>82.0</td>\n      <td>240.6</td>\n      <td>37.2</td>\n      <td>0.444</td>\n      <td>5.1</td>\n      <td>0.331</td>\n      <td>19.8</td>\n      <td>0.745</td>\n      <td>13.5</td>\n      <td>29.5</td>\n      <td>43.0</td>\n      <td>21.2</td>\n      <td>9.7</td>\n      <td>3.5</td>\n      <td>15.4</td>\n      <td>27.1</td>\n      <td>99.3</td>\n      <td>0</td>\n      <td>28</td>\n      <td>82.0</td>\n      <td>241.5</td>\n      <td>31.3</td>\n      <td>0.415</td>\n      <td>4.1</td>\n      <td>0.329</td>\n      <td>18.1</td>\n      <td>0.709</td>\n      <td>12.6</td>\n      <td>28.3</td>\n      <td>40.9</td>\n      <td>20.1</td>\n      <td>7.9</td>\n      <td>4.7</td>\n      <td>19.0</td>\n      <td>23.3</td>\n      <td>84.8</td>\n      <td>0</td>\n    </tr>\n  </tbody>\n</table>\n</div>"
     },
     "metadata": {},
     "execution_count": 2
    }
   ],
   "source": [
    "## Read in the data\n",
    "offense_stats = pd.read_csv('csv_files/game_predictions_offense.csv') \n",
    "defense_stats = pd.read_csv('csv_files/game_predictions_defense.csv') \n",
    "offense_defense_stats = pd.read_csv('csv_files/game_predictions_total.csv') \n",
    "offense_stats.head()"
   ]
  },
  {
   "cell_type": "code",
   "execution_count": 3,
   "metadata": {
    "ExecuteTime": {
     "end_time": "2021-03-08T23:07:54.812949Z",
     "start_time": "2021-03-08T23:07:54.804199Z"
    }
   },
   "outputs": [],
   "source": [
    "def ScoringDiff(df): \n",
    "    '''We want to look at the betting lines. \n",
    "    Can be determined by looking at the scoring difference''' \n",
    "\n",
    "    df['score_diff'] = df['pts'] - df['pts.1']\n",
    "\n",
    "    return df \n",
    "    \n",
    "offense_stats = ScoringDiff(offense_stats) \n",
    "defense_stats = ScoringDiff(defense_stats) "
   ]
  },
  {
   "cell_type": "code",
   "execution_count": 4,
   "metadata": {
    "ExecuteTime": {
     "end_time": "2021-03-08T23:08:42.634717Z",
     "start_time": "2021-03-08T23:08:42.050672Z"
    }
   },
   "outputs": [
    {
     "output_type": "execute_result",
     "data": {
      "text/plain": [
       "             team           opponent  year  team_win  score_diff        fg  \\\n",
       "0   atlanta_hawks     boston_celtics  2000         2        -5.0  0.404185   \n",
       "1   atlanta_hawks  charlotte_hornets  2000         2        -4.1  0.404185   \n",
       "2  boston_celtics  charlotte_hornets  2000         2         0.9  0.449942   \n",
       "3   atlanta_hawks      chicago_bulls  2000         0         9.5  0.404185   \n",
       "4  boston_celtics      chicago_bulls  2000         1        14.5  0.449942   \n",
       "\n",
       "        fg%        3p       3p%        ft       ft%       orb       drb  \\\n",
       "0  0.352163  0.138065  0.260813  0.375532  0.514640  0.659632  0.532165   \n",
       "1  0.352163  0.138065  0.260813  0.375532  0.514640  0.659632  0.532165   \n",
       "2  0.385560  0.428049  0.346813  0.513892  0.525498  0.601418  0.309040   \n",
       "3  0.352163  0.138065  0.260813  0.375532  0.514640  0.659632  0.532165   \n",
       "4  0.385560  0.428049  0.346813  0.513892  0.525498  0.601418  0.309040   \n",
       "\n",
       "        trb       ast       stl       blk       tov        pf       pts  \\\n",
       "0  0.734343  0.204440  0.160732  0.487211  0.556587  0.258071  0.333888   \n",
       "1  0.734343  0.204440  0.160732  0.487211  0.556587  0.258071  0.333888   \n",
       "2  0.510725  0.369585  0.729092  0.225825  0.556587  0.721450  0.509619   \n",
       "3  0.734343  0.204440  0.160732  0.487211  0.556587  0.258071  0.333888   \n",
       "4  0.510725  0.369585  0.729092  0.225825  0.556587  0.721450  0.509619   \n",
       "\n",
       "       fg.1     fg%.1      3p.1     3p%.1      ft.1     ft%.1     orb.1  \\\n",
       "0  0.560040  0.384880  0.401717  0.253015  0.534968  0.467704  0.620561   \n",
       "1  0.427149  0.451239  0.263849  0.310239  0.863893  0.540557  0.322730   \n",
       "2  0.427149  0.451239  0.263849  0.310239  0.863893  0.540557  0.322730   \n",
       "3  0.000000  0.000000  0.263849  0.238708  0.342150  0.265957  0.521284   \n",
       "4  0.000000  0.000000  0.263849  0.238708  0.342150  0.265957  0.521284   \n",
       "\n",
       "      drb.1     trb.1     ast.1     stl.1     blk.1     tov.1      pf.1  \\\n",
       "0  0.369784  0.523058  0.285076  0.600834  0.342313  0.494072  0.868795   \n",
       "1  0.715869  0.513422  0.569782  0.481451  0.666479  0.403221  0.124587   \n",
       "2  0.715869  0.513422  0.569782  0.481451  0.666479  0.403221  0.124587   \n",
       "3  0.210053  0.320715  0.195597  0.332222  0.504396  0.961303  0.446707   \n",
       "4  0.210053  0.320715  0.195597  0.332222  0.504396  0.961303  0.446707   \n",
       "\n",
       "      pts.1  playoffs  playoffs.1  \n",
       "0  0.608335         0           0  \n",
       "1  0.570576         0           1  \n",
       "2  0.570576         0           1  \n",
       "3  0.000000         0           0  \n",
       "4  0.000000         0           0  "
      ],
      "text/html": "<div>\n<style scoped>\n    .dataframe tbody tr th:only-of-type {\n        vertical-align: middle;\n    }\n\n    .dataframe tbody tr th {\n        vertical-align: top;\n    }\n\n    .dataframe thead th {\n        text-align: right;\n    }\n</style>\n<table border=\"1\" class=\"dataframe\">\n  <thead>\n    <tr style=\"text-align: right;\">\n      <th></th>\n      <th>team</th>\n      <th>opponent</th>\n      <th>year</th>\n      <th>team_win</th>\n      <th>score_diff</th>\n      <th>fg</th>\n      <th>fg%</th>\n      <th>3p</th>\n      <th>3p%</th>\n      <th>ft</th>\n      <th>ft%</th>\n      <th>orb</th>\n      <th>drb</th>\n      <th>trb</th>\n      <th>ast</th>\n      <th>stl</th>\n      <th>blk</th>\n      <th>tov</th>\n      <th>pf</th>\n      <th>pts</th>\n      <th>fg.1</th>\n      <th>fg%.1</th>\n      <th>3p.1</th>\n      <th>3p%.1</th>\n      <th>ft.1</th>\n      <th>ft%.1</th>\n      <th>orb.1</th>\n      <th>drb.1</th>\n      <th>trb.1</th>\n      <th>ast.1</th>\n      <th>stl.1</th>\n      <th>blk.1</th>\n      <th>tov.1</th>\n      <th>pf.1</th>\n      <th>pts.1</th>\n      <th>playoffs</th>\n      <th>playoffs.1</th>\n    </tr>\n  </thead>\n  <tbody>\n    <tr>\n      <th>0</th>\n      <td>atlanta_hawks</td>\n      <td>boston_celtics</td>\n      <td>2000</td>\n      <td>2</td>\n      <td>-5.0</td>\n      <td>0.404185</td>\n      <td>0.352163</td>\n      <td>0.138065</td>\n      <td>0.260813</td>\n      <td>0.375532</td>\n      <td>0.514640</td>\n      <td>0.659632</td>\n      <td>0.532165</td>\n      <td>0.734343</td>\n      <td>0.204440</td>\n      <td>0.160732</td>\n      <td>0.487211</td>\n      <td>0.556587</td>\n      <td>0.258071</td>\n      <td>0.333888</td>\n      <td>0.560040</td>\n      <td>0.384880</td>\n      <td>0.401717</td>\n      <td>0.253015</td>\n      <td>0.534968</td>\n      <td>0.467704</td>\n      <td>0.620561</td>\n      <td>0.369784</td>\n      <td>0.523058</td>\n      <td>0.285076</td>\n      <td>0.600834</td>\n      <td>0.342313</td>\n      <td>0.494072</td>\n      <td>0.868795</td>\n      <td>0.608335</td>\n      <td>0</td>\n      <td>0</td>\n    </tr>\n    <tr>\n      <th>1</th>\n      <td>atlanta_hawks</td>\n      <td>charlotte_hornets</td>\n      <td>2000</td>\n      <td>2</td>\n      <td>-4.1</td>\n      <td>0.404185</td>\n      <td>0.352163</td>\n      <td>0.138065</td>\n      <td>0.260813</td>\n      <td>0.375532</td>\n      <td>0.514640</td>\n      <td>0.659632</td>\n      <td>0.532165</td>\n      <td>0.734343</td>\n      <td>0.204440</td>\n      <td>0.160732</td>\n      <td>0.487211</td>\n      <td>0.556587</td>\n      <td>0.258071</td>\n      <td>0.333888</td>\n      <td>0.427149</td>\n      <td>0.451239</td>\n      <td>0.263849</td>\n      <td>0.310239</td>\n      <td>0.863893</td>\n      <td>0.540557</td>\n      <td>0.322730</td>\n      <td>0.715869</td>\n      <td>0.513422</td>\n      <td>0.569782</td>\n      <td>0.481451</td>\n      <td>0.666479</td>\n      <td>0.403221</td>\n      <td>0.124587</td>\n      <td>0.570576</td>\n      <td>0</td>\n      <td>1</td>\n    </tr>\n    <tr>\n      <th>2</th>\n      <td>boston_celtics</td>\n      <td>charlotte_hornets</td>\n      <td>2000</td>\n      <td>2</td>\n      <td>0.9</td>\n      <td>0.449942</td>\n      <td>0.385560</td>\n      <td>0.428049</td>\n      <td>0.346813</td>\n      <td>0.513892</td>\n      <td>0.525498</td>\n      <td>0.601418</td>\n      <td>0.309040</td>\n      <td>0.510725</td>\n      <td>0.369585</td>\n      <td>0.729092</td>\n      <td>0.225825</td>\n      <td>0.556587</td>\n      <td>0.721450</td>\n      <td>0.509619</td>\n      <td>0.427149</td>\n      <td>0.451239</td>\n      <td>0.263849</td>\n      <td>0.310239</td>\n      <td>0.863893</td>\n      <td>0.540557</td>\n      <td>0.322730</td>\n      <td>0.715869</td>\n      <td>0.513422</td>\n      <td>0.569782</td>\n      <td>0.481451</td>\n      <td>0.666479</td>\n      <td>0.403221</td>\n      <td>0.124587</td>\n      <td>0.570576</td>\n      <td>0</td>\n      <td>1</td>\n    </tr>\n    <tr>\n      <th>3</th>\n      <td>atlanta_hawks</td>\n      <td>chicago_bulls</td>\n      <td>2000</td>\n      <td>0</td>\n      <td>9.5</td>\n      <td>0.404185</td>\n      <td>0.352163</td>\n      <td>0.138065</td>\n      <td>0.260813</td>\n      <td>0.375532</td>\n      <td>0.514640</td>\n      <td>0.659632</td>\n      <td>0.532165</td>\n      <td>0.734343</td>\n      <td>0.204440</td>\n      <td>0.160732</td>\n      <td>0.487211</td>\n      <td>0.556587</td>\n      <td>0.258071</td>\n      <td>0.333888</td>\n      <td>0.000000</td>\n      <td>0.000000</td>\n      <td>0.263849</td>\n      <td>0.238708</td>\n      <td>0.342150</td>\n      <td>0.265957</td>\n      <td>0.521284</td>\n      <td>0.210053</td>\n      <td>0.320715</td>\n      <td>0.195597</td>\n      <td>0.332222</td>\n      <td>0.504396</td>\n      <td>0.961303</td>\n      <td>0.446707</td>\n      <td>0.000000</td>\n      <td>0</td>\n      <td>0</td>\n    </tr>\n    <tr>\n      <th>4</th>\n      <td>boston_celtics</td>\n      <td>chicago_bulls</td>\n      <td>2000</td>\n      <td>1</td>\n      <td>14.5</td>\n      <td>0.449942</td>\n      <td>0.385560</td>\n      <td>0.428049</td>\n      <td>0.346813</td>\n      <td>0.513892</td>\n      <td>0.525498</td>\n      <td>0.601418</td>\n      <td>0.309040</td>\n      <td>0.510725</td>\n      <td>0.369585</td>\n      <td>0.729092</td>\n      <td>0.225825</td>\n      <td>0.556587</td>\n      <td>0.721450</td>\n      <td>0.509619</td>\n      <td>0.000000</td>\n      <td>0.000000</td>\n      <td>0.263849</td>\n      <td>0.238708</td>\n      <td>0.342150</td>\n      <td>0.265957</td>\n      <td>0.521284</td>\n      <td>0.210053</td>\n      <td>0.320715</td>\n      <td>0.195597</td>\n      <td>0.332222</td>\n      <td>0.504396</td>\n      <td>0.961303</td>\n      <td>0.446707</td>\n      <td>0.000000</td>\n      <td>0</td>\n      <td>0</td>\n    </tr>\n  </tbody>\n</table>\n</div>"
     },
     "metadata": {},
     "execution_count": 4
    }
   ],
   "source": [
    "## Normalize the data- normalize by year, we don't need to normalize playoffs\n",
    "from sklearn.preprocessing import MinMaxScaler\n",
    "\n",
    "def Normalize(df): \n",
    "    \n",
    "    ## Normalize By Year and then normalize overall\n",
    "    \n",
    "    df_group = df.drop(columns = ['team', 'opponent', 'team_win', \n",
    "                                  'playoffs', 'playoffs.1', 'unnamed: 0', 'unnamed: 0.1', 'g', 'g.1', \n",
    "                                 'mp', 'mp.1', 'score_diff'])\n",
    "    df_group = df_group.groupby(['year'])\n",
    "    df_group = df_group.transform(lambda x: (x - x.mean())/(x.std())) \n",
    "    #df_group = df_group.drop(columns = ['level_0', 'index'])\n",
    "    df_group[df_group.columns] = MinMaxScaler().fit_transform(df_group) \n",
    "    \n",
    "    df = pd.concat(\n",
    "        [df[['team','opponent', 'year', 'team_win', 'score_diff']], df_group, df[['playoffs', 'playoffs.1']]], axis = 1\n",
    "    )\n",
    "    \n",
    "    return df.loc[:, ~df.columns.str.match('Unnamed') ]\n",
    "\n",
    "\n",
    "offense_stats_normal = Normalize(offense_stats) \n",
    "defense_stats_normal = Normalize(defense_stats) \n",
    "offense_stats_normal.head() "
   ]
  },
  {
   "cell_type": "code",
   "execution_count": 5,
   "metadata": {
    "ExecuteTime": {
     "end_time": "2021-03-08T23:09:37.511057Z",
     "start_time": "2021-03-08T23:09:37.249532Z"
    },
    "run_control": {
     "marked": true
    }
   },
   "outputs": [
    {
     "output_type": "display_data",
     "data": {
      "application/vnd.plotly.v1+json": {
       "config": {
        "plotlyServerURL": "https://plot.ly"
       },
       "data": [
        {
         "mode": "lines+markers",
         "type": "scatter",
         "x": [
          0,
          1,
          2,
          3,
          4,
          5,
          6,
          7,
          8,
          9,
          10,
          11,
          12,
          13,
          14,
          15,
          16,
          17,
          18,
          19,
          20,
          21,
          22,
          23,
          24,
          25,
          26,
          27,
          28,
          29,
          30,
          31
         ],
         "y": [
          0.24503810377368695,
          0.4741235205490013,
          0.5317717157496316,
          0.5829163888015185,
          0.6305057618377681,
          0.6758071714213515,
          0.7138594975265393,
          0.7497234970197287,
          0.7759356210175589,
          0.8000662592600076,
          0.8235867868060365,
          0.8453930804451674,
          0.8649098103150923,
          0.882745529229543,
          0.8970962200910934,
          0.9107806288158306,
          0.9231911992140248,
          0.9347939634943487,
          0.9448784801882826,
          0.9543339535556725,
          0.9627673502056727,
          0.9704869889487362,
          0.9778903010868134,
          0.9847577854078543,
          0.990544329815922,
          0.9958893081141247,
          0.9976831764575662,
          0.9993288197783798,
          0.9996210599288451,
          0.999838365196994,
          0.999927176369293,
          0.9999999999999999
         ]
        }
       ],
       "layout": {
        "annotations": [
         {
          "showarrow": false,
          "text": "(18, 0.945)",
          "x": 18,
          "xanchor": "left",
          "xref": "x",
          "y": 1,
          "yanchor": "top",
          "yref": "y domain"
         }
        ],
        "shapes": [
         {
          "type": "line",
          "x0": 18,
          "x1": 18,
          "xref": "x",
          "y0": 0,
          "y1": 1,
          "yref": "y domain"
         }
        ],
        "template": {
         "data": {
          "bar": [
           {
            "error_x": {
             "color": "#2a3f5f"
            },
            "error_y": {
             "color": "#2a3f5f"
            },
            "marker": {
             "line": {
              "color": "#E5ECF6",
              "width": 0.5
             }
            },
            "type": "bar"
           }
          ],
          "barpolar": [
           {
            "marker": {
             "line": {
              "color": "#E5ECF6",
              "width": 0.5
             }
            },
            "type": "barpolar"
           }
          ],
          "carpet": [
           {
            "aaxis": {
             "endlinecolor": "#2a3f5f",
             "gridcolor": "white",
             "linecolor": "white",
             "minorgridcolor": "white",
             "startlinecolor": "#2a3f5f"
            },
            "baxis": {
             "endlinecolor": "#2a3f5f",
             "gridcolor": "white",
             "linecolor": "white",
             "minorgridcolor": "white",
             "startlinecolor": "#2a3f5f"
            },
            "type": "carpet"
           }
          ],
          "choropleth": [
           {
            "colorbar": {
             "outlinewidth": 0,
             "ticks": ""
            },
            "type": "choropleth"
           }
          ],
          "contour": [
           {
            "colorbar": {
             "outlinewidth": 0,
             "ticks": ""
            },
            "colorscale": [
             [
              0,
              "#0d0887"
             ],
             [
              0.1111111111111111,
              "#46039f"
             ],
             [
              0.2222222222222222,
              "#7201a8"
             ],
             [
              0.3333333333333333,
              "#9c179e"
             ],
             [
              0.4444444444444444,
              "#bd3786"
             ],
             [
              0.5555555555555556,
              "#d8576b"
             ],
             [
              0.6666666666666666,
              "#ed7953"
             ],
             [
              0.7777777777777778,
              "#fb9f3a"
             ],
             [
              0.8888888888888888,
              "#fdca26"
             ],
             [
              1,
              "#f0f921"
             ]
            ],
            "type": "contour"
           }
          ],
          "contourcarpet": [
           {
            "colorbar": {
             "outlinewidth": 0,
             "ticks": ""
            },
            "type": "contourcarpet"
           }
          ],
          "heatmap": [
           {
            "colorbar": {
             "outlinewidth": 0,
             "ticks": ""
            },
            "colorscale": [
             [
              0,
              "#0d0887"
             ],
             [
              0.1111111111111111,
              "#46039f"
             ],
             [
              0.2222222222222222,
              "#7201a8"
             ],
             [
              0.3333333333333333,
              "#9c179e"
             ],
             [
              0.4444444444444444,
              "#bd3786"
             ],
             [
              0.5555555555555556,
              "#d8576b"
             ],
             [
              0.6666666666666666,
              "#ed7953"
             ],
             [
              0.7777777777777778,
              "#fb9f3a"
             ],
             [
              0.8888888888888888,
              "#fdca26"
             ],
             [
              1,
              "#f0f921"
             ]
            ],
            "type": "heatmap"
           }
          ],
          "heatmapgl": [
           {
            "colorbar": {
             "outlinewidth": 0,
             "ticks": ""
            },
            "colorscale": [
             [
              0,
              "#0d0887"
             ],
             [
              0.1111111111111111,
              "#46039f"
             ],
             [
              0.2222222222222222,
              "#7201a8"
             ],
             [
              0.3333333333333333,
              "#9c179e"
             ],
             [
              0.4444444444444444,
              "#bd3786"
             ],
             [
              0.5555555555555556,
              "#d8576b"
             ],
             [
              0.6666666666666666,
              "#ed7953"
             ],
             [
              0.7777777777777778,
              "#fb9f3a"
             ],
             [
              0.8888888888888888,
              "#fdca26"
             ],
             [
              1,
              "#f0f921"
             ]
            ],
            "type": "heatmapgl"
           }
          ],
          "histogram": [
           {
            "marker": {
             "colorbar": {
              "outlinewidth": 0,
              "ticks": ""
             }
            },
            "type": "histogram"
           }
          ],
          "histogram2d": [
           {
            "colorbar": {
             "outlinewidth": 0,
             "ticks": ""
            },
            "colorscale": [
             [
              0,
              "#0d0887"
             ],
             [
              0.1111111111111111,
              "#46039f"
             ],
             [
              0.2222222222222222,
              "#7201a8"
             ],
             [
              0.3333333333333333,
              "#9c179e"
             ],
             [
              0.4444444444444444,
              "#bd3786"
             ],
             [
              0.5555555555555556,
              "#d8576b"
             ],
             [
              0.6666666666666666,
              "#ed7953"
             ],
             [
              0.7777777777777778,
              "#fb9f3a"
             ],
             [
              0.8888888888888888,
              "#fdca26"
             ],
             [
              1,
              "#f0f921"
             ]
            ],
            "type": "histogram2d"
           }
          ],
          "histogram2dcontour": [
           {
            "colorbar": {
             "outlinewidth": 0,
             "ticks": ""
            },
            "colorscale": [
             [
              0,
              "#0d0887"
             ],
             [
              0.1111111111111111,
              "#46039f"
             ],
             [
              0.2222222222222222,
              "#7201a8"
             ],
             [
              0.3333333333333333,
              "#9c179e"
             ],
             [
              0.4444444444444444,
              "#bd3786"
             ],
             [
              0.5555555555555556,
              "#d8576b"
             ],
             [
              0.6666666666666666,
              "#ed7953"
             ],
             [
              0.7777777777777778,
              "#fb9f3a"
             ],
             [
              0.8888888888888888,
              "#fdca26"
             ],
             [
              1,
              "#f0f921"
             ]
            ],
            "type": "histogram2dcontour"
           }
          ],
          "mesh3d": [
           {
            "colorbar": {
             "outlinewidth": 0,
             "ticks": ""
            },
            "type": "mesh3d"
           }
          ],
          "parcoords": [
           {
            "line": {
             "colorbar": {
              "outlinewidth": 0,
              "ticks": ""
             }
            },
            "type": "parcoords"
           }
          ],
          "pie": [
           {
            "automargin": true,
            "type": "pie"
           }
          ],
          "scatter": [
           {
            "marker": {
             "colorbar": {
              "outlinewidth": 0,
              "ticks": ""
             }
            },
            "type": "scatter"
           }
          ],
          "scatter3d": [
           {
            "line": {
             "colorbar": {
              "outlinewidth": 0,
              "ticks": ""
             }
            },
            "marker": {
             "colorbar": {
              "outlinewidth": 0,
              "ticks": ""
             }
            },
            "type": "scatter3d"
           }
          ],
          "scattercarpet": [
           {
            "marker": {
             "colorbar": {
              "outlinewidth": 0,
              "ticks": ""
             }
            },
            "type": "scattercarpet"
           }
          ],
          "scattergeo": [
           {
            "marker": {
             "colorbar": {
              "outlinewidth": 0,
              "ticks": ""
             }
            },
            "type": "scattergeo"
           }
          ],
          "scattergl": [
           {
            "marker": {
             "colorbar": {
              "outlinewidth": 0,
              "ticks": ""
             }
            },
            "type": "scattergl"
           }
          ],
          "scattermapbox": [
           {
            "marker": {
             "colorbar": {
              "outlinewidth": 0,
              "ticks": ""
             }
            },
            "type": "scattermapbox"
           }
          ],
          "scatterpolar": [
           {
            "marker": {
             "colorbar": {
              "outlinewidth": 0,
              "ticks": ""
             }
            },
            "type": "scatterpolar"
           }
          ],
          "scatterpolargl": [
           {
            "marker": {
             "colorbar": {
              "outlinewidth": 0,
              "ticks": ""
             }
            },
            "type": "scatterpolargl"
           }
          ],
          "scatterternary": [
           {
            "marker": {
             "colorbar": {
              "outlinewidth": 0,
              "ticks": ""
             }
            },
            "type": "scatterternary"
           }
          ],
          "surface": [
           {
            "colorbar": {
             "outlinewidth": 0,
             "ticks": ""
            },
            "colorscale": [
             [
              0,
              "#0d0887"
             ],
             [
              0.1111111111111111,
              "#46039f"
             ],
             [
              0.2222222222222222,
              "#7201a8"
             ],
             [
              0.3333333333333333,
              "#9c179e"
             ],
             [
              0.4444444444444444,
              "#bd3786"
             ],
             [
              0.5555555555555556,
              "#d8576b"
             ],
             [
              0.6666666666666666,
              "#ed7953"
             ],
             [
              0.7777777777777778,
              "#fb9f3a"
             ],
             [
              0.8888888888888888,
              "#fdca26"
             ],
             [
              1,
              "#f0f921"
             ]
            ],
            "type": "surface"
           }
          ],
          "table": [
           {
            "cells": {
             "fill": {
              "color": "#EBF0F8"
             },
             "line": {
              "color": "white"
             }
            },
            "header": {
             "fill": {
              "color": "#C8D4E3"
             },
             "line": {
              "color": "white"
             }
            },
            "type": "table"
           }
          ]
         },
         "layout": {
          "annotationdefaults": {
           "arrowcolor": "#2a3f5f",
           "arrowhead": 0,
           "arrowwidth": 1
          },
          "autotypenumbers": "strict",
          "coloraxis": {
           "colorbar": {
            "outlinewidth": 0,
            "ticks": ""
           }
          },
          "colorscale": {
           "diverging": [
            [
             0,
             "#8e0152"
            ],
            [
             0.1,
             "#c51b7d"
            ],
            [
             0.2,
             "#de77ae"
            ],
            [
             0.3,
             "#f1b6da"
            ],
            [
             0.4,
             "#fde0ef"
            ],
            [
             0.5,
             "#f7f7f7"
            ],
            [
             0.6,
             "#e6f5d0"
            ],
            [
             0.7,
             "#b8e186"
            ],
            [
             0.8,
             "#7fbc41"
            ],
            [
             0.9,
             "#4d9221"
            ],
            [
             1,
             "#276419"
            ]
           ],
           "sequential": [
            [
             0,
             "#0d0887"
            ],
            [
             0.1111111111111111,
             "#46039f"
            ],
            [
             0.2222222222222222,
             "#7201a8"
            ],
            [
             0.3333333333333333,
             "#9c179e"
            ],
            [
             0.4444444444444444,
             "#bd3786"
            ],
            [
             0.5555555555555556,
             "#d8576b"
            ],
            [
             0.6666666666666666,
             "#ed7953"
            ],
            [
             0.7777777777777778,
             "#fb9f3a"
            ],
            [
             0.8888888888888888,
             "#fdca26"
            ],
            [
             1,
             "#f0f921"
            ]
           ],
           "sequentialminus": [
            [
             0,
             "#0d0887"
            ],
            [
             0.1111111111111111,
             "#46039f"
            ],
            [
             0.2222222222222222,
             "#7201a8"
            ],
            [
             0.3333333333333333,
             "#9c179e"
            ],
            [
             0.4444444444444444,
             "#bd3786"
            ],
            [
             0.5555555555555556,
             "#d8576b"
            ],
            [
             0.6666666666666666,
             "#ed7953"
            ],
            [
             0.7777777777777778,
             "#fb9f3a"
            ],
            [
             0.8888888888888888,
             "#fdca26"
            ],
            [
             1,
             "#f0f921"
            ]
           ]
          },
          "colorway": [
           "#636efa",
           "#EF553B",
           "#00cc96",
           "#ab63fa",
           "#FFA15A",
           "#19d3f3",
           "#FF6692",
           "#B6E880",
           "#FF97FF",
           "#FECB52"
          ],
          "font": {
           "color": "#2a3f5f"
          },
          "geo": {
           "bgcolor": "white",
           "lakecolor": "white",
           "landcolor": "#E5ECF6",
           "showlakes": true,
           "showland": true,
           "subunitcolor": "white"
          },
          "hoverlabel": {
           "align": "left"
          },
          "hovermode": "closest",
          "mapbox": {
           "style": "light"
          },
          "paper_bgcolor": "white",
          "plot_bgcolor": "#E5ECF6",
          "polar": {
           "angularaxis": {
            "gridcolor": "white",
            "linecolor": "white",
            "ticks": ""
           },
           "bgcolor": "#E5ECF6",
           "radialaxis": {
            "gridcolor": "white",
            "linecolor": "white",
            "ticks": ""
           }
          },
          "scene": {
           "xaxis": {
            "backgroundcolor": "#E5ECF6",
            "gridcolor": "white",
            "gridwidth": 2,
            "linecolor": "white",
            "showbackground": true,
            "ticks": "",
            "zerolinecolor": "white"
           },
           "yaxis": {
            "backgroundcolor": "#E5ECF6",
            "gridcolor": "white",
            "gridwidth": 2,
            "linecolor": "white",
            "showbackground": true,
            "ticks": "",
            "zerolinecolor": "white"
           },
           "zaxis": {
            "backgroundcolor": "#E5ECF6",
            "gridcolor": "white",
            "gridwidth": 2,
            "linecolor": "white",
            "showbackground": true,
            "ticks": "",
            "zerolinecolor": "white"
           }
          },
          "shapedefaults": {
           "line": {
            "color": "#2a3f5f"
           }
          },
          "ternary": {
           "aaxis": {
            "gridcolor": "white",
            "linecolor": "white",
            "ticks": ""
           },
           "baxis": {
            "gridcolor": "white",
            "linecolor": "white",
            "ticks": ""
           },
           "bgcolor": "#E5ECF6",
           "caxis": {
            "gridcolor": "white",
            "linecolor": "white",
            "ticks": ""
           }
          },
          "title": {
           "x": 0.05
          },
          "xaxis": {
           "automargin": true,
           "gridcolor": "white",
           "linecolor": "white",
           "ticks": "",
           "title": {
            "standoff": 15
           },
           "zerolinecolor": "white",
           "zerolinewidth": 2
          },
          "yaxis": {
           "automargin": true,
           "gridcolor": "white",
           "linecolor": "white",
           "ticks": "",
           "title": {
            "standoff": 15
           },
           "zerolinecolor": "white",
           "zerolinewidth": 2
          }
         }
        },
        "title": {
         "text": "PCA Number Components vs Explained Variance"
        },
        "xaxis": {
         "title": {
          "text": "Number of Components"
         }
        },
        "yaxis": {
         "title": {
          "text": "Explained Variance"
         }
        }
       }
      }
     },
     "metadata": {}
    }
   ],
   "source": [
    "## Perform Principal Component Analysis\n",
    "\n",
    "from sklearn.decomposition import PCA \n",
    "\n",
    "pca = PCA().fit(offense_stats_normal.drop(columns = ['team', 'opponent', 'year', 'team_win', 'score_diff'], axis = 1))  \n",
    "\n",
    "x = np.array(np.arange(0, pca.explained_variance_ratio_.shape[0], 1)) \n",
    "y = np.cumsum(pca.explained_variance_ratio_) \n",
    "\n",
    "fig = go.Figure(go.Scatter( x = x, \n",
    "                    y = y, \n",
    "                    mode = 'lines+markers' ))\n",
    "\n",
    "\n",
    "\n",
    "max_x = np.array(np.where(y < 0.95)).flatten().max()\n",
    "max_y = y[max_x]\n",
    "\n",
    "fig.add_vline(x = max_x, annotation_text = '({}, {})'.format(max_x, round(max_y, 3)))\n",
    "\n",
    "fig.update_layout(title = 'PCA Number Components vs Explained Variance', \n",
    "                    xaxis = dict(title = 'Number of Components'), \n",
    "                    yaxis = dict(title = 'Explained Variance'))\n",
    "\n",
    "fig.show() "
   ]
  },
  {
   "cell_type": "markdown",
   "metadata": {},
   "source": [
    "We can decompose this into 18 components, representing 94.5% of the variance "
   ]
  },
  {
   "cell_type": "code",
   "execution_count": 6,
   "metadata": {
    "ExecuteTime": {
     "end_time": "2021-03-08T23:10:32.301518Z",
     "start_time": "2021-03-08T23:10:32.243446Z"
    }
   },
   "outputs": [
    {
     "output_type": "display_data",
     "data": {
      "application/vnd.plotly.v1+json": {
       "config": {
        "plotlyServerURL": "https://plot.ly"
       },
       "data": [
        {
         "mode": "lines+markers",
         "type": "scatter",
         "x": [
          0,
          1,
          2,
          3,
          4,
          5,
          6,
          7,
          8,
          9,
          10,
          11,
          12,
          13,
          14,
          15,
          16,
          17,
          18,
          19,
          20,
          21,
          22,
          23,
          24,
          25,
          26,
          27,
          28,
          29,
          30,
          31
         ],
         "y": [
          0.24503810377368695,
          0.4741235205490013,
          0.5317717157496316,
          0.5829163888015185,
          0.6305057618377681,
          0.6758071714213515,
          0.7138594975265393,
          0.7497234970197287,
          0.7759356210175589,
          0.8000662592600076,
          0.8235867868060365,
          0.8453930804451674,
          0.8649098103150923,
          0.882745529229543,
          0.8970962200910934,
          0.9107806288158306,
          0.9231911992140248,
          0.9347939634943487,
          0.9448784801882826,
          0.9543339535556725,
          0.9627673502056727,
          0.9704869889487362,
          0.9778903010868134,
          0.9847577854078543,
          0.990544329815922,
          0.9958893081141247,
          0.9976831764575662,
          0.9993288197783798,
          0.9996210599288451,
          0.999838365196994,
          0.999927176369293,
          0.9999999999999999
         ]
        }
       ],
       "layout": {
        "annotations": [
         {
          "showarrow": false,
          "text": "(18, 0.945)",
          "x": 18,
          "xanchor": "left",
          "xref": "x",
          "y": 1,
          "yanchor": "top",
          "yref": "y domain"
         }
        ],
        "shapes": [
         {
          "type": "line",
          "x0": 18,
          "x1": 18,
          "xref": "x",
          "y0": 0,
          "y1": 1,
          "yref": "y domain"
         }
        ],
        "template": {
         "data": {
          "bar": [
           {
            "error_x": {
             "color": "#2a3f5f"
            },
            "error_y": {
             "color": "#2a3f5f"
            },
            "marker": {
             "line": {
              "color": "#E5ECF6",
              "width": 0.5
             }
            },
            "type": "bar"
           }
          ],
          "barpolar": [
           {
            "marker": {
             "line": {
              "color": "#E5ECF6",
              "width": 0.5
             }
            },
            "type": "barpolar"
           }
          ],
          "carpet": [
           {
            "aaxis": {
             "endlinecolor": "#2a3f5f",
             "gridcolor": "white",
             "linecolor": "white",
             "minorgridcolor": "white",
             "startlinecolor": "#2a3f5f"
            },
            "baxis": {
             "endlinecolor": "#2a3f5f",
             "gridcolor": "white",
             "linecolor": "white",
             "minorgridcolor": "white",
             "startlinecolor": "#2a3f5f"
            },
            "type": "carpet"
           }
          ],
          "choropleth": [
           {
            "colorbar": {
             "outlinewidth": 0,
             "ticks": ""
            },
            "type": "choropleth"
           }
          ],
          "contour": [
           {
            "colorbar": {
             "outlinewidth": 0,
             "ticks": ""
            },
            "colorscale": [
             [
              0,
              "#0d0887"
             ],
             [
              0.1111111111111111,
              "#46039f"
             ],
             [
              0.2222222222222222,
              "#7201a8"
             ],
             [
              0.3333333333333333,
              "#9c179e"
             ],
             [
              0.4444444444444444,
              "#bd3786"
             ],
             [
              0.5555555555555556,
              "#d8576b"
             ],
             [
              0.6666666666666666,
              "#ed7953"
             ],
             [
              0.7777777777777778,
              "#fb9f3a"
             ],
             [
              0.8888888888888888,
              "#fdca26"
             ],
             [
              1,
              "#f0f921"
             ]
            ],
            "type": "contour"
           }
          ],
          "contourcarpet": [
           {
            "colorbar": {
             "outlinewidth": 0,
             "ticks": ""
            },
            "type": "contourcarpet"
           }
          ],
          "heatmap": [
           {
            "colorbar": {
             "outlinewidth": 0,
             "ticks": ""
            },
            "colorscale": [
             [
              0,
              "#0d0887"
             ],
             [
              0.1111111111111111,
              "#46039f"
             ],
             [
              0.2222222222222222,
              "#7201a8"
             ],
             [
              0.3333333333333333,
              "#9c179e"
             ],
             [
              0.4444444444444444,
              "#bd3786"
             ],
             [
              0.5555555555555556,
              "#d8576b"
             ],
             [
              0.6666666666666666,
              "#ed7953"
             ],
             [
              0.7777777777777778,
              "#fb9f3a"
             ],
             [
              0.8888888888888888,
              "#fdca26"
             ],
             [
              1,
              "#f0f921"
             ]
            ],
            "type": "heatmap"
           }
          ],
          "heatmapgl": [
           {
            "colorbar": {
             "outlinewidth": 0,
             "ticks": ""
            },
            "colorscale": [
             [
              0,
              "#0d0887"
             ],
             [
              0.1111111111111111,
              "#46039f"
             ],
             [
              0.2222222222222222,
              "#7201a8"
             ],
             [
              0.3333333333333333,
              "#9c179e"
             ],
             [
              0.4444444444444444,
              "#bd3786"
             ],
             [
              0.5555555555555556,
              "#d8576b"
             ],
             [
              0.6666666666666666,
              "#ed7953"
             ],
             [
              0.7777777777777778,
              "#fb9f3a"
             ],
             [
              0.8888888888888888,
              "#fdca26"
             ],
             [
              1,
              "#f0f921"
             ]
            ],
            "type": "heatmapgl"
           }
          ],
          "histogram": [
           {
            "marker": {
             "colorbar": {
              "outlinewidth": 0,
              "ticks": ""
             }
            },
            "type": "histogram"
           }
          ],
          "histogram2d": [
           {
            "colorbar": {
             "outlinewidth": 0,
             "ticks": ""
            },
            "colorscale": [
             [
              0,
              "#0d0887"
             ],
             [
              0.1111111111111111,
              "#46039f"
             ],
             [
              0.2222222222222222,
              "#7201a8"
             ],
             [
              0.3333333333333333,
              "#9c179e"
             ],
             [
              0.4444444444444444,
              "#bd3786"
             ],
             [
              0.5555555555555556,
              "#d8576b"
             ],
             [
              0.6666666666666666,
              "#ed7953"
             ],
             [
              0.7777777777777778,
              "#fb9f3a"
             ],
             [
              0.8888888888888888,
              "#fdca26"
             ],
             [
              1,
              "#f0f921"
             ]
            ],
            "type": "histogram2d"
           }
          ],
          "histogram2dcontour": [
           {
            "colorbar": {
             "outlinewidth": 0,
             "ticks": ""
            },
            "colorscale": [
             [
              0,
              "#0d0887"
             ],
             [
              0.1111111111111111,
              "#46039f"
             ],
             [
              0.2222222222222222,
              "#7201a8"
             ],
             [
              0.3333333333333333,
              "#9c179e"
             ],
             [
              0.4444444444444444,
              "#bd3786"
             ],
             [
              0.5555555555555556,
              "#d8576b"
             ],
             [
              0.6666666666666666,
              "#ed7953"
             ],
             [
              0.7777777777777778,
              "#fb9f3a"
             ],
             [
              0.8888888888888888,
              "#fdca26"
             ],
             [
              1,
              "#f0f921"
             ]
            ],
            "type": "histogram2dcontour"
           }
          ],
          "mesh3d": [
           {
            "colorbar": {
             "outlinewidth": 0,
             "ticks": ""
            },
            "type": "mesh3d"
           }
          ],
          "parcoords": [
           {
            "line": {
             "colorbar": {
              "outlinewidth": 0,
              "ticks": ""
             }
            },
            "type": "parcoords"
           }
          ],
          "pie": [
           {
            "automargin": true,
            "type": "pie"
           }
          ],
          "scatter": [
           {
            "marker": {
             "colorbar": {
              "outlinewidth": 0,
              "ticks": ""
             }
            },
            "type": "scatter"
           }
          ],
          "scatter3d": [
           {
            "line": {
             "colorbar": {
              "outlinewidth": 0,
              "ticks": ""
             }
            },
            "marker": {
             "colorbar": {
              "outlinewidth": 0,
              "ticks": ""
             }
            },
            "type": "scatter3d"
           }
          ],
          "scattercarpet": [
           {
            "marker": {
             "colorbar": {
              "outlinewidth": 0,
              "ticks": ""
             }
            },
            "type": "scattercarpet"
           }
          ],
          "scattergeo": [
           {
            "marker": {
             "colorbar": {
              "outlinewidth": 0,
              "ticks": ""
             }
            },
            "type": "scattergeo"
           }
          ],
          "scattergl": [
           {
            "marker": {
             "colorbar": {
              "outlinewidth": 0,
              "ticks": ""
             }
            },
            "type": "scattergl"
           }
          ],
          "scattermapbox": [
           {
            "marker": {
             "colorbar": {
              "outlinewidth": 0,
              "ticks": ""
             }
            },
            "type": "scattermapbox"
           }
          ],
          "scatterpolar": [
           {
            "marker": {
             "colorbar": {
              "outlinewidth": 0,
              "ticks": ""
             }
            },
            "type": "scatterpolar"
           }
          ],
          "scatterpolargl": [
           {
            "marker": {
             "colorbar": {
              "outlinewidth": 0,
              "ticks": ""
             }
            },
            "type": "scatterpolargl"
           }
          ],
          "scatterternary": [
           {
            "marker": {
             "colorbar": {
              "outlinewidth": 0,
              "ticks": ""
             }
            },
            "type": "scatterternary"
           }
          ],
          "surface": [
           {
            "colorbar": {
             "outlinewidth": 0,
             "ticks": ""
            },
            "colorscale": [
             [
              0,
              "#0d0887"
             ],
             [
              0.1111111111111111,
              "#46039f"
             ],
             [
              0.2222222222222222,
              "#7201a8"
             ],
             [
              0.3333333333333333,
              "#9c179e"
             ],
             [
              0.4444444444444444,
              "#bd3786"
             ],
             [
              0.5555555555555556,
              "#d8576b"
             ],
             [
              0.6666666666666666,
              "#ed7953"
             ],
             [
              0.7777777777777778,
              "#fb9f3a"
             ],
             [
              0.8888888888888888,
              "#fdca26"
             ],
             [
              1,
              "#f0f921"
             ]
            ],
            "type": "surface"
           }
          ],
          "table": [
           {
            "cells": {
             "fill": {
              "color": "#EBF0F8"
             },
             "line": {
              "color": "white"
             }
            },
            "header": {
             "fill": {
              "color": "#C8D4E3"
             },
             "line": {
              "color": "white"
             }
            },
            "type": "table"
           }
          ]
         },
         "layout": {
          "annotationdefaults": {
           "arrowcolor": "#2a3f5f",
           "arrowhead": 0,
           "arrowwidth": 1
          },
          "autotypenumbers": "strict",
          "coloraxis": {
           "colorbar": {
            "outlinewidth": 0,
            "ticks": ""
           }
          },
          "colorscale": {
           "diverging": [
            [
             0,
             "#8e0152"
            ],
            [
             0.1,
             "#c51b7d"
            ],
            [
             0.2,
             "#de77ae"
            ],
            [
             0.3,
             "#f1b6da"
            ],
            [
             0.4,
             "#fde0ef"
            ],
            [
             0.5,
             "#f7f7f7"
            ],
            [
             0.6,
             "#e6f5d0"
            ],
            [
             0.7,
             "#b8e186"
            ],
            [
             0.8,
             "#7fbc41"
            ],
            [
             0.9,
             "#4d9221"
            ],
            [
             1,
             "#276419"
            ]
           ],
           "sequential": [
            [
             0,
             "#0d0887"
            ],
            [
             0.1111111111111111,
             "#46039f"
            ],
            [
             0.2222222222222222,
             "#7201a8"
            ],
            [
             0.3333333333333333,
             "#9c179e"
            ],
            [
             0.4444444444444444,
             "#bd3786"
            ],
            [
             0.5555555555555556,
             "#d8576b"
            ],
            [
             0.6666666666666666,
             "#ed7953"
            ],
            [
             0.7777777777777778,
             "#fb9f3a"
            ],
            [
             0.8888888888888888,
             "#fdca26"
            ],
            [
             1,
             "#f0f921"
            ]
           ],
           "sequentialminus": [
            [
             0,
             "#0d0887"
            ],
            [
             0.1111111111111111,
             "#46039f"
            ],
            [
             0.2222222222222222,
             "#7201a8"
            ],
            [
             0.3333333333333333,
             "#9c179e"
            ],
            [
             0.4444444444444444,
             "#bd3786"
            ],
            [
             0.5555555555555556,
             "#d8576b"
            ],
            [
             0.6666666666666666,
             "#ed7953"
            ],
            [
             0.7777777777777778,
             "#fb9f3a"
            ],
            [
             0.8888888888888888,
             "#fdca26"
            ],
            [
             1,
             "#f0f921"
            ]
           ]
          },
          "colorway": [
           "#636efa",
           "#EF553B",
           "#00cc96",
           "#ab63fa",
           "#FFA15A",
           "#19d3f3",
           "#FF6692",
           "#B6E880",
           "#FF97FF",
           "#FECB52"
          ],
          "font": {
           "color": "#2a3f5f"
          },
          "geo": {
           "bgcolor": "white",
           "lakecolor": "white",
           "landcolor": "#E5ECF6",
           "showlakes": true,
           "showland": true,
           "subunitcolor": "white"
          },
          "hoverlabel": {
           "align": "left"
          },
          "hovermode": "closest",
          "mapbox": {
           "style": "light"
          },
          "paper_bgcolor": "white",
          "plot_bgcolor": "#E5ECF6",
          "polar": {
           "angularaxis": {
            "gridcolor": "white",
            "linecolor": "white",
            "ticks": ""
           },
           "bgcolor": "#E5ECF6",
           "radialaxis": {
            "gridcolor": "white",
            "linecolor": "white",
            "ticks": ""
           }
          },
          "scene": {
           "xaxis": {
            "backgroundcolor": "#E5ECF6",
            "gridcolor": "white",
            "gridwidth": 2,
            "linecolor": "white",
            "showbackground": true,
            "ticks": "",
            "zerolinecolor": "white"
           },
           "yaxis": {
            "backgroundcolor": "#E5ECF6",
            "gridcolor": "white",
            "gridwidth": 2,
            "linecolor": "white",
            "showbackground": true,
            "ticks": "",
            "zerolinecolor": "white"
           },
           "zaxis": {
            "backgroundcolor": "#E5ECF6",
            "gridcolor": "white",
            "gridwidth": 2,
            "linecolor": "white",
            "showbackground": true,
            "ticks": "",
            "zerolinecolor": "white"
           }
          },
          "shapedefaults": {
           "line": {
            "color": "#2a3f5f"
           }
          },
          "ternary": {
           "aaxis": {
            "gridcolor": "white",
            "linecolor": "white",
            "ticks": ""
           },
           "baxis": {
            "gridcolor": "white",
            "linecolor": "white",
            "ticks": ""
           },
           "bgcolor": "#E5ECF6",
           "caxis": {
            "gridcolor": "white",
            "linecolor": "white",
            "ticks": ""
           }
          },
          "title": {
           "x": 0.05
          },
          "xaxis": {
           "automargin": true,
           "gridcolor": "white",
           "linecolor": "white",
           "ticks": "",
           "title": {
            "standoff": 15
           },
           "zerolinecolor": "white",
           "zerolinewidth": 2
          },
          "yaxis": {
           "automargin": true,
           "gridcolor": "white",
           "linecolor": "white",
           "ticks": "",
           "title": {
            "standoff": 15
           },
           "zerolinecolor": "white",
           "zerolinewidth": 2
          }
         }
        },
        "title": {
         "text": "PCA Number Components vs Explained Variance"
        },
        "xaxis": {
         "title": {
          "text": "Number of Components"
         }
        },
        "yaxis": {
         "title": {
          "text": "Explained Variance"
         }
        }
       }
      }
     },
     "metadata": {}
    }
   ],
   "source": [
    "def PCA_DF(df, dep_cols): \n",
    "\n",
    "    ## Perform PCA \n",
    "\n",
    "    from sklearn.decomposition import PCA \n",
    "\n",
    "    ind_df = df.drop(columns = dep_cols, axis = 1) \n",
    "\n",
    "    pca = PCA().fit(ind_df) \n",
    "\n",
    "    y = np.cumsum(pca.explained_variance_ratio_) \n",
    "    x = np.array(np.arange(0, y.shape[0], 1)) \n",
    "\n",
    "    max_x = np.array(np.where(y < 0.95)).flatten().max() \n",
    "    max_y = y[max_x]\n",
    "\n",
    "    fig = go.Figure(go.Scatter(x = x, y = y, mode = 'lines+markers')) \n",
    "\n",
    "    fig.add_vline(x = max_x, annotation_text = '({}, {})'.format(max_x, round(max_y, 3))) \n",
    "\n",
    "    fig.update_layout(title = 'PCA Number Components vs Explained Variance', \n",
    "                    xaxis = dict(title = 'Number of Components'), \n",
    "                    yaxis = dict(title = 'Explained Variance'))\n",
    "\n",
    "    fig.show() \n",
    "\n",
    "\n",
    "    pca_df = pd.DataFrame(PCA(n_components = max_x).fit_transform(ind_df))\n",
    " \n",
    "\n",
    "    pca_df[dep_cols] = df[dep_cols] \n",
    "\n",
    "    return pca_df, list(range(0, max_x))  \n",
    "\n",
    "pca_offense, offense_pca_comp_num = PCA_DF(offense_stats_normal, ['team', 'opponent', 'year', 'team_win', 'score_diff'])\n"
   ]
  },
  {
   "cell_type": "code",
   "execution_count": 7,
   "metadata": {
    "ExecuteTime": {
     "end_time": "2021-03-08T23:11:31.763083Z",
     "start_time": "2021-03-08T23:11:31.745134Z"
    }
   },
   "outputs": [
    {
     "output_type": "execute_result",
     "data": {
      "text/plain": [
       "          0         1         2         3         4         5         6  \\\n",
       "0 -0.094036  0.831844  0.077872  0.043882 -0.324125 -0.333522  0.417964   \n",
       "1  0.788306  0.160966  0.083387  0.022329 -0.370808 -0.177542  0.202134   \n",
       "2  0.749077  0.112763  0.167362 -0.109706  0.100220 -0.057296 -0.275061   \n",
       "3 -0.329269  1.008618  0.243947 -0.492404 -0.576071 -0.023469  0.082222   \n",
       "4 -0.368498  0.960415  0.327922 -0.624440 -0.105043  0.096778 -0.394973   \n",
       "\n",
       "          7         8         9        10        11        12        13  \\\n",
       "0  0.010390 -0.128984 -0.125522 -0.137455  0.205689 -0.043931  0.209384   \n",
       "1  0.205230 -0.038421 -0.209061 -0.010847 -0.308777  0.061493  0.014095   \n",
       "2 -0.240780  0.060151 -0.043043  0.218165 -0.225435  0.199459  0.063779   \n",
       "3  0.373172 -0.112869  0.023886 -0.210536  0.101124  0.078388 -0.238484   \n",
       "4 -0.072838 -0.014297  0.189903  0.018476  0.184465  0.216354 -0.188800   \n",
       "\n",
       "         14        15        16        17            team           opponent  \\\n",
       "0  0.112006 -0.040844 -0.062384 -0.007144   atlanta_hawks     boston_celtics   \n",
       "1 -0.182526  0.326530 -0.067879  0.156121   atlanta_hawks  charlotte_hornets   \n",
       "2 -0.257597  0.273559 -0.024828  0.168268  boston_celtics  charlotte_hornets   \n",
       "3 -0.059448  0.164444 -0.110502  0.267157   atlanta_hawks      chicago_bulls   \n",
       "4 -0.134518  0.111473 -0.067450  0.279304  boston_celtics      chicago_bulls   \n",
       "\n",
       "   year  team_win  score_diff  \n",
       "0  2000         2        -5.0  \n",
       "1  2000         2        -4.1  \n",
       "2  2000         2         0.9  \n",
       "3  2000         0         9.5  \n",
       "4  2000         1        14.5  "
      ],
      "text/html": "<div>\n<style scoped>\n    .dataframe tbody tr th:only-of-type {\n        vertical-align: middle;\n    }\n\n    .dataframe tbody tr th {\n        vertical-align: top;\n    }\n\n    .dataframe thead th {\n        text-align: right;\n    }\n</style>\n<table border=\"1\" class=\"dataframe\">\n  <thead>\n    <tr style=\"text-align: right;\">\n      <th></th>\n      <th>0</th>\n      <th>1</th>\n      <th>2</th>\n      <th>3</th>\n      <th>4</th>\n      <th>5</th>\n      <th>6</th>\n      <th>7</th>\n      <th>8</th>\n      <th>9</th>\n      <th>10</th>\n      <th>11</th>\n      <th>12</th>\n      <th>13</th>\n      <th>14</th>\n      <th>15</th>\n      <th>16</th>\n      <th>17</th>\n      <th>team</th>\n      <th>opponent</th>\n      <th>year</th>\n      <th>team_win</th>\n      <th>score_diff</th>\n    </tr>\n  </thead>\n  <tbody>\n    <tr>\n      <th>0</th>\n      <td>-0.094036</td>\n      <td>0.831844</td>\n      <td>0.077872</td>\n      <td>0.043882</td>\n      <td>-0.324125</td>\n      <td>-0.333522</td>\n      <td>0.417964</td>\n      <td>0.010390</td>\n      <td>-0.128984</td>\n      <td>-0.125522</td>\n      <td>-0.137455</td>\n      <td>0.205689</td>\n      <td>-0.043931</td>\n      <td>0.209384</td>\n      <td>0.112006</td>\n      <td>-0.040844</td>\n      <td>-0.062384</td>\n      <td>-0.007144</td>\n      <td>atlanta_hawks</td>\n      <td>boston_celtics</td>\n      <td>2000</td>\n      <td>2</td>\n      <td>-5.0</td>\n    </tr>\n    <tr>\n      <th>1</th>\n      <td>0.788306</td>\n      <td>0.160966</td>\n      <td>0.083387</td>\n      <td>0.022329</td>\n      <td>-0.370808</td>\n      <td>-0.177542</td>\n      <td>0.202134</td>\n      <td>0.205230</td>\n      <td>-0.038421</td>\n      <td>-0.209061</td>\n      <td>-0.010847</td>\n      <td>-0.308777</td>\n      <td>0.061493</td>\n      <td>0.014095</td>\n      <td>-0.182526</td>\n      <td>0.326530</td>\n      <td>-0.067879</td>\n      <td>0.156121</td>\n      <td>atlanta_hawks</td>\n      <td>charlotte_hornets</td>\n      <td>2000</td>\n      <td>2</td>\n      <td>-4.1</td>\n    </tr>\n    <tr>\n      <th>2</th>\n      <td>0.749077</td>\n      <td>0.112763</td>\n      <td>0.167362</td>\n      <td>-0.109706</td>\n      <td>0.100220</td>\n      <td>-0.057296</td>\n      <td>-0.275061</td>\n      <td>-0.240780</td>\n      <td>0.060151</td>\n      <td>-0.043043</td>\n      <td>0.218165</td>\n      <td>-0.225435</td>\n      <td>0.199459</td>\n      <td>0.063779</td>\n      <td>-0.257597</td>\n      <td>0.273559</td>\n      <td>-0.024828</td>\n      <td>0.168268</td>\n      <td>boston_celtics</td>\n      <td>charlotte_hornets</td>\n      <td>2000</td>\n      <td>2</td>\n      <td>0.9</td>\n    </tr>\n    <tr>\n      <th>3</th>\n      <td>-0.329269</td>\n      <td>1.008618</td>\n      <td>0.243947</td>\n      <td>-0.492404</td>\n      <td>-0.576071</td>\n      <td>-0.023469</td>\n      <td>0.082222</td>\n      <td>0.373172</td>\n      <td>-0.112869</td>\n      <td>0.023886</td>\n      <td>-0.210536</td>\n      <td>0.101124</td>\n      <td>0.078388</td>\n      <td>-0.238484</td>\n      <td>-0.059448</td>\n      <td>0.164444</td>\n      <td>-0.110502</td>\n      <td>0.267157</td>\n      <td>atlanta_hawks</td>\n      <td>chicago_bulls</td>\n      <td>2000</td>\n      <td>0</td>\n      <td>9.5</td>\n    </tr>\n    <tr>\n      <th>4</th>\n      <td>-0.368498</td>\n      <td>0.960415</td>\n      <td>0.327922</td>\n      <td>-0.624440</td>\n      <td>-0.105043</td>\n      <td>0.096778</td>\n      <td>-0.394973</td>\n      <td>-0.072838</td>\n      <td>-0.014297</td>\n      <td>0.189903</td>\n      <td>0.018476</td>\n      <td>0.184465</td>\n      <td>0.216354</td>\n      <td>-0.188800</td>\n      <td>-0.134518</td>\n      <td>0.111473</td>\n      <td>-0.067450</td>\n      <td>0.279304</td>\n      <td>boston_celtics</td>\n      <td>chicago_bulls</td>\n      <td>2000</td>\n      <td>1</td>\n      <td>14.5</td>\n    </tr>\n  </tbody>\n</table>\n</div>"
     },
     "metadata": {},
     "execution_count": 7
    }
   ],
   "source": [
    "pca_offense.head()"
   ]
  },
  {
   "cell_type": "code",
   "execution_count": 8,
   "metadata": {
    "ExecuteTime": {
     "end_time": "2021-03-08T23:12:28.386520Z",
     "start_time": "2021-03-08T23:12:28.377285Z"
    }
   },
   "outputs": [
    {
     "output_type": "stream",
     "name": "stdout",
     "text": [
      "(6416, 18) (6416,)\n"
     ]
    }
   ],
   "source": [
    "def SplitData(df_pca, deps, ind): \n",
    "\n",
    "    from sklearn.model_selection import train_test_split \n",
    "\n",
    "    x_train, x_test, y_train, y_test = train_test_split(df_pca[deps],df_pca[ind], test_size = 0.25) \n",
    "\n",
    "    return x_train, x_test, y_train, y_test \n",
    "\n",
    "train_x, test_x, train_y, test_y = SplitData(pca_offense, offense_pca_comp_num, 'score_diff')\n",
    "\n",
    "print(train_x.shape, train_y.shape) "
   ]
  },
  {
   "cell_type": "code",
   "execution_count": 9,
   "metadata": {
    "ExecuteTime": {
     "end_time": "2021-03-08T23:13:27.474292Z",
     "start_time": "2021-03-08T23:13:26.168119Z"
    }
   },
   "outputs": [],
   "source": [
    "from sklearn import svm \n",
    "from sklearn.tree import DecisionTreeRegressor \n",
    "from sklearn.linear_model import Ridge, Lasso\n",
    "\n",
    "from sklearn.metrics import mean_squared_error\n",
    "\n",
    "def RidgeReg(train_x, train_y, test_x, test_y, alpha):\n",
    "\n",
    "    ridge = Ridge(alpha = alpha, normalize = True) \n",
    "\n",
    "    ridge.fit(train_x, train_y)  \n",
    "    y_pred = ridge.predict(test_x)\n",
    "\n",
    "    score = mean_squared_error(y_pred, test_y)   \n",
    "\n",
    "    return ridge, y_pred, score \n",
    "\n",
    "\n",
    "\n",
    "def LassoReg(train_x, train_y, test_x, test_y, alpha): \n",
    "\n",
    "\n",
    "    lasso = Lasso(alpha = alpha, normalize = True) \n",
    "\n",
    "    lasso.fit(train_x, train_y) \n",
    "\n",
    "    y_pred = lasso.predict(test_x) \n",
    "\n",
    "    score = mean_squared_error(y_pred, test_y) \n",
    "\n",
    "    return lasso, y_pred, score  \n",
    "\n"
   ]
  },
  {
   "cell_type": "code",
   "execution_count": 29,
   "metadata": {
    "ExecuteTime": {
     "end_time": "2021-03-08T23:14:30.398106Z",
     "start_time": "2021-03-08T23:14:30.318338Z"
    }
   },
   "outputs": [
    {
     "output_type": "execute_result",
     "data": {
      "text/plain": [
       "   alphas  lasso_scores  ridge_scores\n",
       "0   1e-15      1.421945      1.421945\n",
       "1   1e-10      1.421945      1.421945\n",
       "2   1e-08      1.421945      1.421945\n",
       "3   1e-05      1.421946      1.421945\n",
       "4  0.0001      1.422996      1.421947"
      ],
      "text/html": "<div>\n<style scoped>\n    .dataframe tbody tr th:only-of-type {\n        vertical-align: middle;\n    }\n\n    .dataframe tbody tr th {\n        vertical-align: top;\n    }\n\n    .dataframe thead th {\n        text-align: right;\n    }\n</style>\n<table border=\"1\" class=\"dataframe\">\n  <thead>\n    <tr style=\"text-align: right;\">\n      <th></th>\n      <th>alphas</th>\n      <th>lasso_scores</th>\n      <th>ridge_scores</th>\n    </tr>\n  </thead>\n  <tbody>\n    <tr>\n      <th>0</th>\n      <td>1e-15</td>\n      <td>1.421945</td>\n      <td>1.421945</td>\n    </tr>\n    <tr>\n      <th>1</th>\n      <td>1e-10</td>\n      <td>1.421945</td>\n      <td>1.421945</td>\n    </tr>\n    <tr>\n      <th>2</th>\n      <td>1e-08</td>\n      <td>1.421945</td>\n      <td>1.421945</td>\n    </tr>\n    <tr>\n      <th>3</th>\n      <td>1e-05</td>\n      <td>1.421946</td>\n      <td>1.421945</td>\n    </tr>\n    <tr>\n      <th>4</th>\n      <td>0.0001</td>\n      <td>1.422996</td>\n      <td>1.421947</td>\n    </tr>\n  </tbody>\n</table>\n</div>"
     },
     "metadata": {},
     "execution_count": 29
    }
   ],
   "source": [
    "potential_alphas = [1e-15, 1e-10, 1e-8, 1e-5,1e-4, 1e-3,1e-2, 1, 5, 10]\n",
    "\n",
    "lasso_scores = [] \n",
    "ridge_scores = [] \n",
    "alphas = [] \n",
    "\n",
    "for a in potential_alphas: \n",
    "\n",
    "    ridge, ridge_y_pred, ridge_score = RidgeReg(train_x, train_y, test_x, test_y, a) \n",
    "\n",
    "    lasso, lasso_y_pred, lasso_score =  LassoReg(train_x, train_y, test_x, test_y, a) \n",
    "\n",
    "    lasso_scores.append(lasso_score) \n",
    "    ridge_scores.append(ridge_score) \n",
    "    alphas.append(str(a)) \n",
    "\n",
    "scores = pd.DataFrame({'alphas': alphas, \n",
    "                        'lasso_scores': lasso_scores, \n",
    "                        'ridge_scores': ridge_scores})\n",
    "scores.head() "
   ]
  },
  {
   "cell_type": "code",
   "execution_count": 39,
   "metadata": {
    "ExecuteTime": {
     "start_time": "2021-03-08T23:15:44.666Z"
    }
   },
   "outputs": [
    {
     "output_type": "display_data",
     "data": {
      "application/vnd.plotly.v1+json": {
       "config": {
        "plotlyServerURL": "https://plot.ly"
       },
       "data": [
        {
         "name": "Ridge Scores",
         "type": "bar",
         "x": [
          "1e-15",
          "1e-10",
          "1e-08",
          "1e-05",
          "0.0001",
          "0.001",
          "0.01",
          "1",
          "5",
          "10"
         ],
         "y": [
          1.4219445226988368,
          1.421944522701312,
          1.4219445229463819,
          1.4219447734238408,
          1.4219473163709437,
          1.4220010451996887,
          1.425312730924277,
          9.43362120681337,
          23.738910450310758,
          28.000951041182585
         ]
        },
        {
         "name": "Lasso Scores",
         "type": "bar",
         "x": [
          "1e-15",
          "1e-10",
          "1e-08",
          "1e-05",
          "0.0001",
          "0.001",
          "0.01",
          "1",
          "5",
          "10"
         ],
         "y": [
          1.4219445226988359,
          1.4219445226233745,
          1.421944513202965,
          1.4219459466412467,
          1.4229964784148785,
          1.536132652818476,
          7.922441929736447,
          33.61289478756919,
          33.61289478756919,
          33.61289478756919
         ]
        }
       ],
       "layout": {
        "template": {
         "data": {
          "bar": [
           {
            "error_x": {
             "color": "#2a3f5f"
            },
            "error_y": {
             "color": "#2a3f5f"
            },
            "marker": {
             "line": {
              "color": "#E5ECF6",
              "width": 0.5
             }
            },
            "type": "bar"
           }
          ],
          "barpolar": [
           {
            "marker": {
             "line": {
              "color": "#E5ECF6",
              "width": 0.5
             }
            },
            "type": "barpolar"
           }
          ],
          "carpet": [
           {
            "aaxis": {
             "endlinecolor": "#2a3f5f",
             "gridcolor": "white",
             "linecolor": "white",
             "minorgridcolor": "white",
             "startlinecolor": "#2a3f5f"
            },
            "baxis": {
             "endlinecolor": "#2a3f5f",
             "gridcolor": "white",
             "linecolor": "white",
             "minorgridcolor": "white",
             "startlinecolor": "#2a3f5f"
            },
            "type": "carpet"
           }
          ],
          "choropleth": [
           {
            "colorbar": {
             "outlinewidth": 0,
             "ticks": ""
            },
            "type": "choropleth"
           }
          ],
          "contour": [
           {
            "colorbar": {
             "outlinewidth": 0,
             "ticks": ""
            },
            "colorscale": [
             [
              0,
              "#0d0887"
             ],
             [
              0.1111111111111111,
              "#46039f"
             ],
             [
              0.2222222222222222,
              "#7201a8"
             ],
             [
              0.3333333333333333,
              "#9c179e"
             ],
             [
              0.4444444444444444,
              "#bd3786"
             ],
             [
              0.5555555555555556,
              "#d8576b"
             ],
             [
              0.6666666666666666,
              "#ed7953"
             ],
             [
              0.7777777777777778,
              "#fb9f3a"
             ],
             [
              0.8888888888888888,
              "#fdca26"
             ],
             [
              1,
              "#f0f921"
             ]
            ],
            "type": "contour"
           }
          ],
          "contourcarpet": [
           {
            "colorbar": {
             "outlinewidth": 0,
             "ticks": ""
            },
            "type": "contourcarpet"
           }
          ],
          "heatmap": [
           {
            "colorbar": {
             "outlinewidth": 0,
             "ticks": ""
            },
            "colorscale": [
             [
              0,
              "#0d0887"
             ],
             [
              0.1111111111111111,
              "#46039f"
             ],
             [
              0.2222222222222222,
              "#7201a8"
             ],
             [
              0.3333333333333333,
              "#9c179e"
             ],
             [
              0.4444444444444444,
              "#bd3786"
             ],
             [
              0.5555555555555556,
              "#d8576b"
             ],
             [
              0.6666666666666666,
              "#ed7953"
             ],
             [
              0.7777777777777778,
              "#fb9f3a"
             ],
             [
              0.8888888888888888,
              "#fdca26"
             ],
             [
              1,
              "#f0f921"
             ]
            ],
            "type": "heatmap"
           }
          ],
          "heatmapgl": [
           {
            "colorbar": {
             "outlinewidth": 0,
             "ticks": ""
            },
            "colorscale": [
             [
              0,
              "#0d0887"
             ],
             [
              0.1111111111111111,
              "#46039f"
             ],
             [
              0.2222222222222222,
              "#7201a8"
             ],
             [
              0.3333333333333333,
              "#9c179e"
             ],
             [
              0.4444444444444444,
              "#bd3786"
             ],
             [
              0.5555555555555556,
              "#d8576b"
             ],
             [
              0.6666666666666666,
              "#ed7953"
             ],
             [
              0.7777777777777778,
              "#fb9f3a"
             ],
             [
              0.8888888888888888,
              "#fdca26"
             ],
             [
              1,
              "#f0f921"
             ]
            ],
            "type": "heatmapgl"
           }
          ],
          "histogram": [
           {
            "marker": {
             "colorbar": {
              "outlinewidth": 0,
              "ticks": ""
             }
            },
            "type": "histogram"
           }
          ],
          "histogram2d": [
           {
            "colorbar": {
             "outlinewidth": 0,
             "ticks": ""
            },
            "colorscale": [
             [
              0,
              "#0d0887"
             ],
             [
              0.1111111111111111,
              "#46039f"
             ],
             [
              0.2222222222222222,
              "#7201a8"
             ],
             [
              0.3333333333333333,
              "#9c179e"
             ],
             [
              0.4444444444444444,
              "#bd3786"
             ],
             [
              0.5555555555555556,
              "#d8576b"
             ],
             [
              0.6666666666666666,
              "#ed7953"
             ],
             [
              0.7777777777777778,
              "#fb9f3a"
             ],
             [
              0.8888888888888888,
              "#fdca26"
             ],
             [
              1,
              "#f0f921"
             ]
            ],
            "type": "histogram2d"
           }
          ],
          "histogram2dcontour": [
           {
            "colorbar": {
             "outlinewidth": 0,
             "ticks": ""
            },
            "colorscale": [
             [
              0,
              "#0d0887"
             ],
             [
              0.1111111111111111,
              "#46039f"
             ],
             [
              0.2222222222222222,
              "#7201a8"
             ],
             [
              0.3333333333333333,
              "#9c179e"
             ],
             [
              0.4444444444444444,
              "#bd3786"
             ],
             [
              0.5555555555555556,
              "#d8576b"
             ],
             [
              0.6666666666666666,
              "#ed7953"
             ],
             [
              0.7777777777777778,
              "#fb9f3a"
             ],
             [
              0.8888888888888888,
              "#fdca26"
             ],
             [
              1,
              "#f0f921"
             ]
            ],
            "type": "histogram2dcontour"
           }
          ],
          "mesh3d": [
           {
            "colorbar": {
             "outlinewidth": 0,
             "ticks": ""
            },
            "type": "mesh3d"
           }
          ],
          "parcoords": [
           {
            "line": {
             "colorbar": {
              "outlinewidth": 0,
              "ticks": ""
             }
            },
            "type": "parcoords"
           }
          ],
          "pie": [
           {
            "automargin": true,
            "type": "pie"
           }
          ],
          "scatter": [
           {
            "marker": {
             "colorbar": {
              "outlinewidth": 0,
              "ticks": ""
             }
            },
            "type": "scatter"
           }
          ],
          "scatter3d": [
           {
            "line": {
             "colorbar": {
              "outlinewidth": 0,
              "ticks": ""
             }
            },
            "marker": {
             "colorbar": {
              "outlinewidth": 0,
              "ticks": ""
             }
            },
            "type": "scatter3d"
           }
          ],
          "scattercarpet": [
           {
            "marker": {
             "colorbar": {
              "outlinewidth": 0,
              "ticks": ""
             }
            },
            "type": "scattercarpet"
           }
          ],
          "scattergeo": [
           {
            "marker": {
             "colorbar": {
              "outlinewidth": 0,
              "ticks": ""
             }
            },
            "type": "scattergeo"
           }
          ],
          "scattergl": [
           {
            "marker": {
             "colorbar": {
              "outlinewidth": 0,
              "ticks": ""
             }
            },
            "type": "scattergl"
           }
          ],
          "scattermapbox": [
           {
            "marker": {
             "colorbar": {
              "outlinewidth": 0,
              "ticks": ""
             }
            },
            "type": "scattermapbox"
           }
          ],
          "scatterpolar": [
           {
            "marker": {
             "colorbar": {
              "outlinewidth": 0,
              "ticks": ""
             }
            },
            "type": "scatterpolar"
           }
          ],
          "scatterpolargl": [
           {
            "marker": {
             "colorbar": {
              "outlinewidth": 0,
              "ticks": ""
             }
            },
            "type": "scatterpolargl"
           }
          ],
          "scatterternary": [
           {
            "marker": {
             "colorbar": {
              "outlinewidth": 0,
              "ticks": ""
             }
            },
            "type": "scatterternary"
           }
          ],
          "surface": [
           {
            "colorbar": {
             "outlinewidth": 0,
             "ticks": ""
            },
            "colorscale": [
             [
              0,
              "#0d0887"
             ],
             [
              0.1111111111111111,
              "#46039f"
             ],
             [
              0.2222222222222222,
              "#7201a8"
             ],
             [
              0.3333333333333333,
              "#9c179e"
             ],
             [
              0.4444444444444444,
              "#bd3786"
             ],
             [
              0.5555555555555556,
              "#d8576b"
             ],
             [
              0.6666666666666666,
              "#ed7953"
             ],
             [
              0.7777777777777778,
              "#fb9f3a"
             ],
             [
              0.8888888888888888,
              "#fdca26"
             ],
             [
              1,
              "#f0f921"
             ]
            ],
            "type": "surface"
           }
          ],
          "table": [
           {
            "cells": {
             "fill": {
              "color": "#EBF0F8"
             },
             "line": {
              "color": "white"
             }
            },
            "header": {
             "fill": {
              "color": "#C8D4E3"
             },
             "line": {
              "color": "white"
             }
            },
            "type": "table"
           }
          ]
         },
         "layout": {
          "annotationdefaults": {
           "arrowcolor": "#2a3f5f",
           "arrowhead": 0,
           "arrowwidth": 1
          },
          "autotypenumbers": "strict",
          "coloraxis": {
           "colorbar": {
            "outlinewidth": 0,
            "ticks": ""
           }
          },
          "colorscale": {
           "diverging": [
            [
             0,
             "#8e0152"
            ],
            [
             0.1,
             "#c51b7d"
            ],
            [
             0.2,
             "#de77ae"
            ],
            [
             0.3,
             "#f1b6da"
            ],
            [
             0.4,
             "#fde0ef"
            ],
            [
             0.5,
             "#f7f7f7"
            ],
            [
             0.6,
             "#e6f5d0"
            ],
            [
             0.7,
             "#b8e186"
            ],
            [
             0.8,
             "#7fbc41"
            ],
            [
             0.9,
             "#4d9221"
            ],
            [
             1,
             "#276419"
            ]
           ],
           "sequential": [
            [
             0,
             "#0d0887"
            ],
            [
             0.1111111111111111,
             "#46039f"
            ],
            [
             0.2222222222222222,
             "#7201a8"
            ],
            [
             0.3333333333333333,
             "#9c179e"
            ],
            [
             0.4444444444444444,
             "#bd3786"
            ],
            [
             0.5555555555555556,
             "#d8576b"
            ],
            [
             0.6666666666666666,
             "#ed7953"
            ],
            [
             0.7777777777777778,
             "#fb9f3a"
            ],
            [
             0.8888888888888888,
             "#fdca26"
            ],
            [
             1,
             "#f0f921"
            ]
           ],
           "sequentialminus": [
            [
             0,
             "#0d0887"
            ],
            [
             0.1111111111111111,
             "#46039f"
            ],
            [
             0.2222222222222222,
             "#7201a8"
            ],
            [
             0.3333333333333333,
             "#9c179e"
            ],
            [
             0.4444444444444444,
             "#bd3786"
            ],
            [
             0.5555555555555556,
             "#d8576b"
            ],
            [
             0.6666666666666666,
             "#ed7953"
            ],
            [
             0.7777777777777778,
             "#fb9f3a"
            ],
            [
             0.8888888888888888,
             "#fdca26"
            ],
            [
             1,
             "#f0f921"
            ]
           ]
          },
          "colorway": [
           "#636efa",
           "#EF553B",
           "#00cc96",
           "#ab63fa",
           "#FFA15A",
           "#19d3f3",
           "#FF6692",
           "#B6E880",
           "#FF97FF",
           "#FECB52"
          ],
          "font": {
           "color": "#2a3f5f"
          },
          "geo": {
           "bgcolor": "white",
           "lakecolor": "white",
           "landcolor": "#E5ECF6",
           "showlakes": true,
           "showland": true,
           "subunitcolor": "white"
          },
          "hoverlabel": {
           "align": "left"
          },
          "hovermode": "closest",
          "mapbox": {
           "style": "light"
          },
          "paper_bgcolor": "white",
          "plot_bgcolor": "#E5ECF6",
          "polar": {
           "angularaxis": {
            "gridcolor": "white",
            "linecolor": "white",
            "ticks": ""
           },
           "bgcolor": "#E5ECF6",
           "radialaxis": {
            "gridcolor": "white",
            "linecolor": "white",
            "ticks": ""
           }
          },
          "scene": {
           "xaxis": {
            "backgroundcolor": "#E5ECF6",
            "gridcolor": "white",
            "gridwidth": 2,
            "linecolor": "white",
            "showbackground": true,
            "ticks": "",
            "zerolinecolor": "white"
           },
           "yaxis": {
            "backgroundcolor": "#E5ECF6",
            "gridcolor": "white",
            "gridwidth": 2,
            "linecolor": "white",
            "showbackground": true,
            "ticks": "",
            "zerolinecolor": "white"
           },
           "zaxis": {
            "backgroundcolor": "#E5ECF6",
            "gridcolor": "white",
            "gridwidth": 2,
            "linecolor": "white",
            "showbackground": true,
            "ticks": "",
            "zerolinecolor": "white"
           }
          },
          "shapedefaults": {
           "line": {
            "color": "#2a3f5f"
           }
          },
          "ternary": {
           "aaxis": {
            "gridcolor": "white",
            "linecolor": "white",
            "ticks": ""
           },
           "baxis": {
            "gridcolor": "white",
            "linecolor": "white",
            "ticks": ""
           },
           "bgcolor": "#E5ECF6",
           "caxis": {
            "gridcolor": "white",
            "linecolor": "white",
            "ticks": ""
           }
          },
          "title": {
           "x": 0.05
          },
          "xaxis": {
           "automargin": true,
           "gridcolor": "white",
           "linecolor": "white",
           "ticks": "",
           "title": {
            "standoff": 15
           },
           "zerolinecolor": "white",
           "zerolinewidth": 2
          },
          "yaxis": {
           "automargin": true,
           "gridcolor": "white",
           "linecolor": "white",
           "ticks": "",
           "title": {
            "standoff": 15
           },
           "zerolinecolor": "white",
           "zerolinewidth": 2
          }
         }
        }
       }
      }
     },
     "metadata": {}
    }
   ],
   "source": [
    "fig = go.Figure() \n",
    "\n",
    "fig.add_trace(go.Bar(x = scores.alphas, y = scores.ridge_scores, name = 'Ridge Scores'))\n",
    "fig.add_trace(go.Bar(x = scores.alphas, y = scores.lasso_scores, name = 'Lasso Scores') ) \n",
    "\n",
    "fig.show() "
   ]
  },
  {
   "source": [
    "It seems that across the board the ridge regressions perform better than the lasso regressions. we're going to use a lambda of 0.01. "
   ],
   "cell_type": "markdown",
   "metadata": {}
  },
  {
   "cell_type": "code",
   "execution_count": 41,
   "metadata": {},
   "outputs": [
    {
     "output_type": "stream",
     "name": "stdout",
     "text": [
      "1.425312730924277\n"
     ]
    }
   ],
   "source": [
    "## Ridge Regression \n",
    "ridge, ridge_y_pred, ridge_score = RidgeReg(train_x, train_y, test_x, test_y, 0.01)\n",
    "\n",
    "print(ridge_score) "
   ]
  },
  {
   "cell_type": "code",
   "execution_count": 43,
   "metadata": {},
   "outputs": [
    {
     "output_type": "execute_result",
     "data": {
      "text/plain": [
       "1.4265647714449186"
      ]
     },
     "metadata": {},
     "execution_count": 43
    }
   ],
   "source": [
    "ridge.fit(train_x, train_y) \n",
    "mean_squared_error(ridge.predict(train_x), train_y)"
   ]
  },
  {
   "cell_type": "code",
   "execution_count": null,
   "metadata": {},
   "outputs": [],
   "source": []
  }
 ],
 "metadata": {
  "hide_input": false,
  "kernelspec": {
   "display_name": "Python 3",
   "language": "python",
   "name": "python3"
  },
  "language_info": {
   "codemirror_mode": {
    "name": "ipython",
    "version": 3
   },
   "file_extension": ".py",
   "mimetype": "text/x-python",
   "name": "python",
   "nbconvert_exporter": "python",
   "pygments_lexer": "ipython3",
   "version": "3.8.5-final"
  },
  "latex_envs": {
   "LaTeX_envs_menu_present": true,
   "autoclose": false,
   "autocomplete": true,
   "bibliofile": "biblio.bib",
   "cite_by": "apalike",
   "current_citInitial": 1,
   "eqLabelWithNumbers": true,
   "eqNumInitial": 1,
   "hotkeys": {
    "equation": "Ctrl-E",
    "itemize": "Ctrl-I"
   },
   "labels_anchors": false,
   "latex_user_defs": false,
   "report_style_numbering": false,
   "user_envs_cfg": false
  },
  "toc": {
   "base_numbering": 1,
   "nav_menu": {
    "height": "91px",
    "width": "184px"
   },
   "number_sections": true,
   "sideBar": true,
   "skip_h1_title": true,
   "title_cell": "Table of Contents",
   "title_sidebar": "Contents",
   "toc_cell": true,
   "toc_position": {},
   "toc_section_display": true,
   "toc_window_display": true
  },
  "varInspector": {
   "cols": {
    "lenName": 16,
    "lenType": 16,
    "lenVar": 40
   },
   "kernels_config": {
    "python": {
     "delete_cmd_postfix": "",
     "delete_cmd_prefix": "del ",
     "library": "var_list.py",
     "varRefreshCmd": "print(var_dic_list())"
    },
    "r": {
     "delete_cmd_postfix": ") ",
     "delete_cmd_prefix": "rm(",
     "library": "var_list.r",
     "varRefreshCmd": "cat(var_dic_list()) "
    }
   },
   "position": {
    "height": "810px",
    "left": "1549px",
    "right": "20px",
    "top": "120px",
    "width": "352px"
   },
   "types_to_exclude": [
    "module",
    "function",
    "builtin_function_or_method",
    "instance",
    "_Feature"
   ],
   "window_display": false
  }
 },
 "nbformat": 4,
 "nbformat_minor": 4
}