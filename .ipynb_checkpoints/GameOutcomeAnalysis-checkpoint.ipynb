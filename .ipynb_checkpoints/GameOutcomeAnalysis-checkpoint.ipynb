{
 "cells": [
  {
   "cell_type": "code",
   "execution_count": 3,
   "metadata": {},
   "outputs": [],
   "source": [
    "import pandas as pd \n",
    "import numpy as np \n",
    "from tqdm import tqdm \n",
    "from plotnine import *\n",
    "import plotly\n",
    "import matplotlib.pyplot as plt \n",
    "from pandas_profiling import ProfileReport\n",
    "from bball_reference import BBallScrape\n",
    "\n",
    "pd.set_option(\"display.max_rows\", 10000, \"display.max_columns\", 10000)\n"
   ]
  },
  {
   "cell_type": "code",
   "execution_count": 4,
   "metadata": {
    "ExecuteTime": {
     "end_time": "2021-01-10T17:12:10.622376Z",
     "start_time": "2021-01-10T17:12:10.619866Z"
    }
   },
   "outputs": [],
   "source": [
    "def FormatTeams(df): \n",
    "    \n",
    "    df.team = df.team.str.strip().str.replace(' ', '_').str.lower().str.replace(\n",
    "                '\\*', '')\n",
    "\n",
    "    return df"
   ]
  },
  {
   "cell_type": "code",
   "execution_count": 5,
   "metadata": {
    "ExecuteTime": {
     "end_time": "2021-01-10T17:12:10.626559Z",
     "start_time": "2021-01-10T17:12:10.623826Z"
    }
   },
   "outputs": [],
   "source": [
    "\n",
    "def ConvertCols(x): \n",
    "    column = np.array(x.fillna('100000-11').str.split('-').to_list())\n",
    "    column = column.astype(np.float) \n",
    "    wins = column.T[0] \n",
    "    losses = column.T[1]\n",
    "\n",
    "    \n",
    "    return wins / np.add(wins, losses) "
   ]
  },
  {
   "cell_type": "code",
   "execution_count": 6,
   "metadata": {
    "ExecuteTime": {
     "end_time": "2021-01-10T17:12:10.633581Z",
     "start_time": "2021-01-10T17:12:10.628028Z"
    }
   },
   "outputs": [],
   "source": [
    "def ReadData(first_year, last_year): \n",
    "\n",
    "    \n",
    "\n",
    "    try: \n",
    "        standings = pd.read_excel('csv_files/standings.xlsx') \n",
    "        team = pd.read_excel('csv_files/team_stats.xlsx') \n",
    "        opponent = pd.read_excel('csv_files/opponent_stats.xlsx') \n",
    "\n",
    "    except: \n",
    "\n",
    "        scrape = BBallScrape(first_year) \n",
    "\n",
    "        standings = scrape.Standings()\n",
    "        team, opponent = scrape.TeamStats()\n",
    "\n",
    "        for year in tqdm(range((first_year+1), (last_year + 1))): \n",
    "            print(year)\n",
    "            scrape = BBallScrape(year) \n",
    "\n",
    "            standings = standings.append(scrape.Standings())\n",
    "            team_new, opponent_new = scrape.TeamStats()\n",
    "            team = team.append(team_new) \n",
    "            opponent = opponent.append(opponent_new) \n",
    "        \n",
    "\n",
    "        standings.to_excel('csv_files/standings.xlsx')\n",
    "        team.to_excel('csv_files/team_stats.xlsx')\n",
    "        opponent.to_excel('csv_files/opponent_stats.xlsx') \n",
    "\n",
    "    standings.columns = standings.columns.str.lower() \n",
    "    team.columns = team.columns.str.lower()\n",
    "    opponent.columns = opponent.columns.str.lower()\n",
    "\n",
    "    standings['year'] = standings.year_x\n",
    "\n",
    "    SubsetYears = lambda x: x[(x.year >= first_year) & (x.year <= last_year)]\n",
    "\n",
    "    team = SubsetYears(team) \n",
    "    opponent = SubsetYears(opponent) \n",
    "    standings = SubsetYears(standings) \n",
    "\n",
    "    return team[(team.year >= first_year) & (team.year <= last_year)], opponent, standings \n",
    "\n",
    "#team, opponent, standings = ReadData(2000, 2019)\n"
   ]
  },
  {
   "cell_type": "code",
   "execution_count": 7,
   "metadata": {
    "ExecuteTime": {
     "end_time": "2021-01-10T17:12:10.640032Z",
     "start_time": "2021-01-10T17:12:10.635412Z"
    }
   },
   "outputs": [],
   "source": [
    "def FormatStandings(standings): \n",
    "\n",
    "\n",
    "\n",
    "    f_standings = standings[~standings.th.str.contains('Division', na = False) ].copy()\n",
    "\n",
    "     \n",
    "\n",
    "    f_standings['year'] = f_standings.year_x.astype(int) \n",
    "    f_standings = f_standings.drop(columns = ['year_x', 'year_y', 'th', \n",
    "                                        'w', 'l', 'w/l%', 'gb', 'ps/g', \n",
    "                                        'pa/g', 'srs', 'playoffs', 'unnamed: 0'])\n",
    "\n",
    "    f_standings.columns = f_standings.columns.str.lower() \n",
    "\n",
    "    f_standings = FormatTeams(f_standings) \n",
    "\n",
    "    f_standings = f_standings.dropna(how = 'all', axis = 1) \n",
    "\n",
    "    f_standings = pd.concat([\n",
    "        f_standings[['team', 'year']], f_standings.iloc[:,1:-1].transform(ConvertCols)\n",
    "    ], axis = 1)\n",
    "\n",
    "    f_standings = f_standings.replace(f_standings.iloc[0,2], np.NaN)\n",
    "    f_standings.index = f_standings.team \n",
    "    f_standings = f_standings.drop(columns = ['team'])\n",
    "    f_standings = f_standings[~f_standings.index.isna()]\n",
    "\n",
    "\n",
    "    return f_standings \n",
    "\n",
    "#standings = FormatStandings(standings) "
   ]
  },
  {
   "cell_type": "code",
   "execution_count": 8,
   "metadata": {
    "ExecuteTime": {
     "end_time": "2021-01-10T17:12:10.645611Z",
     "start_time": "2021-01-10T17:12:10.641704Z"
    }
   },
   "outputs": [],
   "source": [
    "def MatchColNames(df, year): \n",
    "        df_year = df[df.year == year].copy()\n",
    "\n",
    "        df_year = df_year.dropna(how = 'all', axis = 1) \n",
    "\n",
    "        names = [] \n",
    "\n",
    "        for col in df: \n",
    "            try: \n",
    "                names.append(df_year[df_year[col].isna()].index.to_list()[0])\n",
    "            except: \n",
    "                pass\n",
    "        \n",
    "        df_year.columns = ['year'] + names \n",
    "        return df_year \n",
    "\n",
    "def FilterCols(df): \n",
    "\n",
    "    \n",
    "\n",
    "    years = df.year.unique() \n",
    "    df_year = MatchColNames(df, years[0])\n",
    "\n",
    "\n",
    "    for year in years[1:]: \n",
    "        print(year) \n",
    "        df_year = df_year.append(MatchColNames(df, year))\n",
    "\n",
    "    return df_year \n",
    "\n",
    "#standings = FilterCols(standings) "
   ]
  },
  {
   "cell_type": "code",
   "execution_count": 9,
   "metadata": {
    "ExecuteTime": {
     "end_time": "2021-01-10T17:12:10.656468Z",
     "start_time": "2021-01-10T17:12:10.651651Z"
    }
   },
   "outputs": [],
   "source": [
    "from sklearn.preprocessing import MinMaxScaler\n",
    "\n",
    "def FormatStats(df, offense): \n",
    "    df.dropna(how = 'any', inplace = True)\n",
    "    df['playoffs'] = df.team.str.contains('\\*', regex = True).astype('int')\n",
    "    df_group = FormatTeams(df)\n",
    "    df_group = df.drop(columns = ['unnamed: 0', 'playoffs', 'g', 'mp'])\n",
    "    df_group = df_group.groupby(['year'])\n",
    "    df_group = df_group.transform(lambda x: (x - x.mean())/(x.std())) \n",
    "    #df_group = df_group.drop(columns = ['level_0', 'index'])\n",
    "    df_group[df_group.columns] = MinMaxScaler().fit_transform(df_group) \n",
    "    \n",
    "    \n",
    "\n",
    "    if offense is True: \n",
    "        o_d = 'offense_'\n",
    "    else: \n",
    "        o_d = 'defense_'\n",
    "\n",
    "    df_group.columns = [o_d + str(col) for col in df_group.columns]\n",
    "\n",
    "    df_playoff = pd.concat(\n",
    "        [df[['team', 'year']], df_group, df['playoffs']], axis = 1\n",
    "    )\n",
    "\n",
    "    df = df_playoff.drop(columns = ['playoffs'])\n",
    "\n",
    "\n",
    "\n",
    "   \n",
    "    \n",
    "    return df\n",
    "\n",
    "#team = FormatStats(team)\n",
    "#opponent = FormatStats(opponent) "
   ]
  },
  {
   "cell_type": "code",
   "execution_count": 10,
   "metadata": {
    "ExecuteTime": {
     "end_time": "2021-01-10T17:12:10.660640Z",
     "start_time": "2021-01-10T17:12:10.658229Z"
    }
   },
   "outputs": [],
   "source": [
    "def TeamWin(x): \n",
    "    if x < 0.4: \n",
    "        a = 0\n",
    "    elif x <= 0.6: \n",
    "        a = 1\n",
    "    else: \n",
    "        a = 2\n",
    "    return a"
   ]
  },
  {
   "cell_type": "code",
   "execution_count": 11,
   "metadata": {
    "ExecuteTime": {
     "end_time": "2021-01-10T17:12:10.668913Z",
     "start_time": "2021-01-10T17:12:10.662169Z"
    }
   },
   "outputs": [],
   "source": [
    "def GamePredictions(standings, team_data): \n",
    "    df = standings.copy() \n",
    "\n",
    "\n",
    "    game_predictions = pd.DataFrame(columns = ['team', 'opponent', 'year', 'team_win'])\n",
    "\n",
    "    for year in standings.year.unique(): \n",
    "        standings_year = df[df.year == year] \n",
    "\n",
    "        team_names = standings_year.index.unique().to_numpy() \n",
    "\n",
    "        for first_name in team_names: \n",
    "            for second_name in team_names: \n",
    "\n",
    "                try: \n",
    "                    team_win = standings_year.unstack()[first_name][second_name]\n",
    "                except: \n",
    "                    print(year, first_name, second_name) \n",
    "                    team_win = None\n",
    "                    pass\n",
    "\n",
    "                game_predictions = game_predictions.append({\n",
    "                    'team': first_name, \n",
    "                    'opponent': second_name, \n",
    "                    'year': int(year), 'team_win': team_win\n",
    "                    }, ignore_index=True)\n",
    "\n",
    "    game_predictions = game_predictions.dropna() \n",
    "    game_predictions['year'] = game_predictions.year.astype(str) \n",
    "    game_predictions['both_teams'] = game_predictions.apply(lambda x: sorted(x[['team', 'opponent', 'year']]), axis = 1) \n",
    "    game_predictions = game_predictions.groupby(game_predictions.both_teams.apply(tuple, 1)).first().reset_index(drop = True) \n",
    "    game_predictions = game_predictions.drop(columns = ['both_teams']).reset_index().drop(columns = ['index'])\n",
    "    game_predictions['year'] = game_predictions.year.astype(int)\n",
    "\n",
    "    game_predictions = game_predictions.merge(\n",
    "        team_data, on = ['team', 'year'])\n",
    "    game_predictions = game_predictions.merge(\n",
    "        team_data, left_on = ['opponent', 'year'], right_on = ['team', 'year']\n",
    "    )\n",
    "    game_predictions = game_predictions.drop(columns = ['team_y'])\n",
    "    game_predictions = game_predictions.rename({'team_x': 'team'}, axis = 'columns')\n",
    "\n",
    "    game_predictions['team_win'] = game_predictions.team_win.transform(TeamWin)\n",
    "\n",
    "    return game_predictions\n",
    "\n",
    "#game_predictions = GamePredictionY(standings) "
   ]
  },
  {
   "cell_type": "code",
   "execution_count": null,
   "metadata": {
    "ExecuteTime": {
     "end_time": "2021-01-10T17:14:52.092978Z",
     "start_time": "2021-01-10T17:12:10.670925Z"
    },
    "tags": []
   },
   "outputs": [
    {
     "name": "stdout",
     "output_type": "stream",
     "text": [
      "2001\n",
      "2002\n",
      "2003\n",
      "2004\n",
      "2005\n",
      "2006\n",
      "2007\n",
      "2008\n",
      "2009\n",
      "2010\n",
      "2011\n",
      "2012\n",
      "2013\n",
      "2014\n",
      "2015\n",
      "2016\n",
      "2017\n",
      "2018\n",
      "2019\n"
     ]
    }
   ],
   "source": [
    "team, opponent, standings = ReadData(2000, 2019) \n",
    "standings = FormatStandings(standings) \n",
    "team_formatted = FormatStats(team, True)\n",
    "opponent_formatted = FormatStats(opponent, False) \n",
    "standings = FilterCols(standings) \n",
    "game_predictions_offense = GamePredictions(standings, team) \n",
    "game_predictions_defense = GamePredictions(standings, opponent) \n",
    "\n",
    "\n"
   ]
  },
  {
   "cell_type": "code",
   "execution_count": null,
   "metadata": {},
   "outputs": [],
   "source": [
    "import seaborn as sns\n",
    "fig, ax= plt.subplots(2, 2, figsize = (15, 15)) \n",
    "\n",
    "offense_defense_cutoff = 25\n",
    "\n",
    "\n",
    "sns.heatmap(\n",
    "    game_predictions_offense.iloc[:,:offense_defense_cutoff].corr(), ax = ax[0, 0], cmap = 'BuPu_r'\n",
    "    ).set_title('Team Offense')\n",
    "sns.heatmap(\n",
    "    game_predictions_offense.iloc[:,offense_defense_cutoff:].corr(), ax = ax[1, 0], cmap = 'BuPu_r'\n",
    ").set_title('Opponent Offense')\n",
    "\n",
    "sns.heatmap(\n",
    "    game_predictions_defense.iloc[:,:offense_defense_cutoff].corr(), ax = ax[0, 1], cmap = 'BuPu_r'\n",
    "    ).set_title('Team Defense')\n",
    "sns.heatmap(\n",
    "    game_predictions_defense.iloc[:,offense_defense_cutoff:].corr(), ax = ax[1, 1], cmap = 'BuPu_r'\n",
    ").set_title('Opponent Defense')\n",
    "\n",
    "fig.tight_layout()\n",
    "\n",
    "plt.show()\n"
   ]
  },
  {
   "cell_type": "code",
   "execution_count": null,
   "metadata": {},
   "outputs": [],
   "source": [
    "game_predictions_offense.head()"
   ]
  },
  {
   "cell_type": "code",
   "execution_count": null,
   "metadata": {},
   "outputs": [],
   "source": [
    "cols = [col for col in game_predictions_offense.columns if '2' not in col] \n",
    "cols = [col for col in cols if 'a_' not in col] \n",
    "game_predictions_offense[cols].head()\n",
    "\n",
    "def FilterCols(df): \n",
    "    '''Remove 2point stats, and all attempts from data''' \n",
    "    cols = [col for col in df.columns if '2' not in col]\n",
    "    cols = [col for col in cols if 'a_' not in col] \n",
    "    df = df[cols]\n",
    "    df.columns = df.columns.str.replace('_x', '').str.replace('_y', '')\n",
    "\n",
    "\n",
    "    return  df\n",
    "\n",
    "predictions_offense_filtered = FilterCols(game_predictions_offense) \n",
    "predictions_defense_filtered = FilterCols(game_predictions_defense) \n",
    "predictions_total = predictions_offense_filtered.merge(\n",
    "    predictions_defense_filtered, on = ['team', 'opponent', 'year', 'team_win']\n",
    ")\n",
    "\n",
    "predictions_offense_filtered.to_csv('csv_files/game_predictions_offense.csv') \n",
    "predictions_defense_filtered.to_csv('csv_files/game_predictions_defense.csv') \n",
    "predictions_total.to_csv('csv_files/game_predictions_offense')"
   ]
  },
  {
   "cell_type": "code",
   "execution_count": null,
   "metadata": {},
   "outputs": [],
   "source": [
    "predictions_defense_filtered.head()"
   ]
  },
  {
   "cell_type": "code",
   "execution_count": null,
   "metadata": {},
   "outputs": [],
   "source": [
    "ggplot(aes(x= 'year', y = 'fg'), data = team.groupby(['year']).mean().reset_index()) + geom_line() + geom_point(color = 'green') + labs(\n",
    "    x = 'Field Goals Attempted', y = 'Year', title = 'Average Field Goal Percent By Year'\n",
    ")"
   ]
  },
  {
   "cell_type": "code",
   "execution_count": null,
   "metadata": {},
   "outputs": [],
   "source": [
    "ggplot(aes(x= 'year', y = 'offense_fg'), data = team_formatted.groupby(['year']).mean().reset_index()) + geom_line() + geom_point(color = 'green') + labs(\n",
    "    x = 'Field Goals Attempted', y = 'Year', title = 'Average Field Goal Percent By Year'\n",
    ")\n"
   ]
  },
  {
   "cell_type": "code",
   "execution_count": null,
   "metadata": {},
   "outputs": [],
   "source": [
    "team.head()"
   ]
  },
  {
   "cell_type": "code",
   "execution_count": null,
   "metadata": {},
   "outputs": [],
   "source": []
  }
 ],
 "metadata": {
  "hide_input": false,
  "kernelspec": {
   "display_name": "Python 3",
   "language": "python",
   "name": "python3"
  },
  "language_info": {
   "codemirror_mode": {
    "name": "ipython",
    "version": 3
   },
   "file_extension": ".py",
   "mimetype": "text/x-python",
   "name": "python",
   "nbconvert_exporter": "python",
   "pygments_lexer": "ipython3",
   "version": "3.8.5"
  },
  "latex_envs": {
   "LaTeX_envs_menu_present": true,
   "autoclose": false,
   "autocomplete": true,
   "bibliofile": "biblio.bib",
   "cite_by": "apalike",
   "current_citInitial": 1,
   "eqLabelWithNumbers": true,
   "eqNumInitial": 1,
   "hotkeys": {
    "equation": "Ctrl-E",
    "itemize": "Ctrl-I"
   },
   "labels_anchors": false,
   "latex_user_defs": false,
   "report_style_numbering": false,
   "user_envs_cfg": false
  },
  "toc": {
   "base_numbering": 1,
   "nav_menu": {},
   "number_sections": true,
   "sideBar": true,
   "skip_h1_title": false,
   "title_cell": "Table of Contents",
   "title_sidebar": "Contents",
   "toc_cell": false,
   "toc_position": {},
   "toc_section_display": true,
   "toc_window_display": false
  }
 },
 "nbformat": 4,
 "nbformat_minor": 4
}
